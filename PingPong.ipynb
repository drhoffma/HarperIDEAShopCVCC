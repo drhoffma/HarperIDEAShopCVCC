{
  "nbformat": 4,
  "nbformat_minor": 0,
  "metadata": {
    "colab": {
      "name": "PingPong.ipynb",
      "provenance": [],
      "collapsed_sections": [],
      "authorship_tag": "ABX9TyOGEwYZRIt2wIIUQS1Llja1",
      "include_colab_link": true
    },
    "kernelspec": {
      "name": "python3",
      "display_name": "Python 3"
    },
    "language_info": {
      "name": "python"
    }
  },
  "cells": [
    {
      "cell_type": "markdown",
      "metadata": {
        "id": "view-in-github",
        "colab_type": "text"
      },
      "source": [
        "<a href=\"https://colab.research.google.com/github/drhoffma/HarperIDEAShopCVCC/blob/main/PingPong.ipynb\" target=\"_parent\"><img src=\"https://colab.research.google.com/assets/colab-badge.svg\" alt=\"Open In Colab\"/></a>"
      ]
    },
    {
      "cell_type": "markdown",
      "metadata": {
        "id": "F-M_EEbNmjGS"
      },
      "source": [
        "Ping Pong Ball Color Changer"
      ]
    },
    {
      "cell_type": "code",
      "metadata": {
        "id": "nuCUnKinm5Fu"
      },
      "source": [
        "# download images\n",
        "! wget https://github.com/drhoffma/HarperIDEAShopCVCC/raw/main/assignments/00_assignment/assets/jpg/keyboard.jpeg"
      ],
      "execution_count": null,
      "outputs": []
    },
    {
      "cell_type": "code",
      "metadata": {
        "id": "CwJRVZB4nZ1g"
      },
      "source": [
        "! wget https://github.com/drhoffma/HarperIDEAShopCVCC/raw/main/assignments/00_assignment/assets/jpg/chair.jpeg\n",
        "! wget https://github.com/drhoffma/HarperIDEAShopCVCC/raw/main/assignments/00_assignment/assets/jpg/table_blurry.jpeg\n",
        "! wget https://github.com/drhoffma/HarperIDEAShopCVCC/raw/main/assignments/00_assignment/assets/jpg/oberwesal.jpeg"
      ],
      "execution_count": null,
      "outputs": []
    },
    {
      "cell_type": "code",
      "metadata": {
        "id": "PKeVBmfxmpGq"
      },
      "source": [
        "# imports\n",
        "import cv2\n",
        "import numpy as np\n",
        "import imutils\n",
        "from google.colab.patches import cv2_imshow\n",
        "\n",
        "# define your class, constructor, & methods\n",
        "\n",
        "class PingPongBallColorChanger:\n",
        "  def __init__(self, image):\n",
        "    self.image = image\n",
        "\n",
        "  def change_color(self, desired_color, color_hsv_min, color_hsv_max):\n",
        "\n",
        "    # convert image to HSV\n",
        "    hsv_img = cv2.cvtColor(self.image, cv2.COLOR_BGR2HSV)\n",
        "\n",
        "    print(hsv_img.shape)\n",
        "    \n",
        "    # mask out the orange\n",
        "    mask = cv2.inRange(self.image, color_hsv_min, color_hsv_max)\n",
        "    \n",
        "\n",
        "    print(mask.shape)\n",
        "\n",
        "    print(mask[:5])\n",
        "\n",
        "    #mask = cv2.cvtColor(mask, cv2.COLOR_GRAY2BGR)\n",
        "    cv2_imshow(mask)\n",
        "\n",
        "    output = None\n",
        "    return output\n",
        "\n",
        "  def method1(self, param):\n",
        "    pass\n",
        "\n",
        "\n",
        "# define your class, constructor, methods\n",
        "class PingPongBallColorChanger2:\n",
        "  def __init__(self, image):\n",
        "    self.image = image\n",
        "  \n",
        "  def change_color(self, desired_color, color_hsv_min, color_hsv_max):\n",
        "    #convert BGR image to HSV\n",
        "    hsv_img = cv2.cvtColor(self.image, cv2.COLOR_BGR2HSV)\n",
        "    # convert hsv image to grayscale\n",
        "    #hsv_gray = cv2.cvtColor(self.image,cv2.COLOR_HSV2GRAY)\n",
        "    # cv2.cvtColor()\n",
        "    \n",
        "    mask = cv2.inRange(hsv_img, (7, 23, 222), (42, 255, 255))\n",
        "    # Convert the mask to a single channel\n",
        "    mask = mask.astype(np.uint8)\n",
        "    mask = cv2.cvtColor(mask, cv2.COLOR_BGR2GRAY)\n",
        "    # Mask out the image \n",
        "    output = cv2.bitwise_and(hsv_img, hsv_img, mask=mask)\n",
        "    return output\n",
        "    \n",
        "    \n",
        "  def method2(self, param):\n",
        "    pass\n",
        "\n"
      ],
      "execution_count": 21,
      "outputs": []
    },
    {
      "cell_type": "code",
      "metadata": {
        "colab": {
          "base_uri": "https://localhost:8080/",
          "height": 753
        },
        "id": "FuYNXBv1mvPZ",
        "outputId": "6797fb45-f247-4ca6-9f22-4211a05998d3"
      },
      "source": [
        "# test code\n",
        "\n",
        "# load your image with cv2.imread()\n",
        "image = cv2.imread(\"keyboard.jpeg\")\n",
        "\n",
        "# from the color range tool on David's machine\n",
        "hsv_min=(7, 23, 222)\n",
        "hsv_max=(42, 255, 255)\n",
        "\n",
        "# instantiate your class and create an object\n",
        "p = PingPongBallColorChanger(image)\n",
        "\n",
        "# call relevant methods\n",
        "desired_color = (0, 255, 0)\n",
        "output = p.change_color(desired_color, hsv_min, hsv_max)\n",
        "#cv2_imshow(output)"
      ],
      "execution_count": 22,
      "outputs": [
        {
          "output_type": "stream",
          "text": [
            "(600, 800, 3)\n",
            "(600, 800)\n",
            "[[0 0 0 ... 0 0 0]\n",
            " [0 0 0 ... 0 0 0]\n",
            " [0 0 0 ... 0 0 0]\n",
            " [0 0 0 ... 0 0 0]\n",
            " [0 0 0 ... 0 0 0]]\n"
          ],
          "name": "stdout"
        },
        {
          "output_type": "display_data",
          "data": {
            "image/png": "[encoded data removed]",
            "text/plain": [
              "<PIL.Image.Image image mode=L size=800x600 at 0x7FD93C0BA850>"
            ]
          },
          "metadata": {
            "tags": []
          }
        }
      ]
    }
  ]
}