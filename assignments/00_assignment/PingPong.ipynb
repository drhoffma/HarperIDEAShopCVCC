{
  "nbformat": 4,
  "nbformat_minor": 0,
  "metadata": {
    "colab": {
      "name": "PingPong.ipynb",
      "provenance": [],
      "collapsed_sections": [],
      "authorship_tag": "ABX9TyOf17xORU6/BfBSZdfEfjgo",
      "include_colab_link": true
    },
    "kernelspec": {
      "name": "python3",
      "display_name": "Python 3"
    },
    "language_info": {
      "name": "python"
    }
  },
  "cells": [
    {
      "cell_type": "markdown",
      "metadata": {
        "id": "view-in-github",
        "colab_type": "text"
      },
      "source": [
        "<a href=\"https://colab.research.google.com/github/drhoffma/HarperIDEAShopCVCC/blob/main/assignments/00_assignment/PingPong.ipynb\" target=\"_parent\"><img src=\"https://colab.research.google.com/assets/colab-badge.svg\" alt=\"Open In Colab\"/></a>"
      ]
    },
    {
      "cell_type": "markdown",
      "metadata": {
        "id": "F-M_EEbNmjGS"
      },
      "source": [
        "# Ping Pong Ball Color Changer"
      ]
    },
    {
      "cell_type": "code",
      "metadata": {
        "id": "nuCUnKinm5Fu",
        "colab": {
          "base_uri": "https://localhost:8080/"
        },
        "outputId": "be512672-45ec-4fcb-a33d-a454cc5fa1cd"
      },
      "source": [
        "# download images\n",
        "! wget https://github.com/drhoffma/HarperIDEAShopCVCC/raw/main/assignments/00_assignment/assets/jpg/keyboard.jpeg\n",
        "! wget https://github.com/drhoffma/HarperIDEAShopCVCC/raw/main/assignments/00_assignment/assets/jpg/chair.jpeg\n",
        "! wget https://github.com/drhoffma/HarperIDEAShopCVCC/raw/main/assignments/00_assignment/assets/jpg/table_blurry.jpeg\n",
        "! wget https://github.com/drhoffma/HarperIDEAShopCVCC/raw/main/assignments/00_assignment/assets/jpg/oberwesal.jpeg"
      ],
      "execution_count": 6,
      "outputs": [
        {
          "output_type": "stream",
          "text": [
            "--2021-07-28 14:05:10--  https://github.com/drhoffma/HarperIDEAShopCVCC/raw/main/assignments/00_assignment/assets/jpg/keyboard.jpeg\n",
            "Resolving github.com (github.com)... 140.82.112.3\n",
            "Connecting to github.com (github.com)|140.82.112.3|:443... connected.\n",
            "HTTP request sent, awaiting response... 302 Found\n",
            "Location: https://raw.githubusercontent.com/drhoffma/HarperIDEAShopCVCC/main/assignments/00_assignment/assets/jpg/keyboard.jpeg [following]\n",
            "--2021-07-28 14:05:11--  https://raw.githubusercontent.com/drhoffma/HarperIDEAShopCVCC/main/assignments/00_assignment/assets/jpg/keyboard.jpeg\n",
            "Resolving raw.githubusercontent.com (raw.githubusercontent.com)... 185.199.110.133, 185.199.109.133, 185.199.108.133, ...\n",
            "Connecting to raw.githubusercontent.com (raw.githubusercontent.com)|185.199.110.133|:443... connected.\n",
            "HTTP request sent, awaiting response... 200 OK\n",
            "Length: 110930 (108K) [image/jpeg]\n",
            "Saving to: ‘keyboard.jpeg.1’\n",
            "\n",
            "keyboard.jpeg.1     100%[===================>] 108.33K  --.-KB/s    in 0.01s   \n",
            "\n",
            "2021-07-28 14:05:11 (8.19 MB/s) - ‘keyboard.jpeg.1’ saved [110930/110930]\n",
            "\n",
            "--2021-07-28 14:05:11--  https://github.com/drhoffma/HarperIDEAShopCVCC/raw/main/assignments/00_assignment/assets/jpg/chair.jpeg\n",
            "Resolving github.com (github.com)... 140.82.113.3\n",
            "Connecting to github.com (github.com)|140.82.113.3|:443... connected.\n",
            "HTTP request sent, awaiting response... 302 Found\n",
            "Location: https://raw.githubusercontent.com/drhoffma/HarperIDEAShopCVCC/main/assignments/00_assignment/assets/jpg/chair.jpeg [following]\n",
            "--2021-07-28 14:05:11--  https://raw.githubusercontent.com/drhoffma/HarperIDEAShopCVCC/main/assignments/00_assignment/assets/jpg/chair.jpeg\n",
            "Resolving raw.githubusercontent.com (raw.githubusercontent.com)... 185.199.108.133, 185.199.109.133, 185.199.110.133, ...\n",
            "Connecting to raw.githubusercontent.com (raw.githubusercontent.com)|185.199.108.133|:443... connected.\n",
            "HTTP request sent, awaiting response... 200 OK\n",
            "Length: 85210 (83K) [image/jpeg]\n",
            "Saving to: ‘chair.jpeg.1’\n",
            "\n",
            "chair.jpeg.1        100%[===================>]  83.21K  --.-KB/s    in 0.008s  \n",
            "\n",
            "2021-07-28 14:05:11 (9.94 MB/s) - ‘chair.jpeg.1’ saved [85210/85210]\n",
            "\n",
            "--2021-07-28 14:05:12--  https://github.com/drhoffma/HarperIDEAShopCVCC/raw/main/assignments/00_assignment/assets/jpg/table_blurry.jpeg\n",
            "Resolving github.com (github.com)... 140.82.113.3\n",
            "Connecting to github.com (github.com)|140.82.113.3|:443... connected.\n",
            "HTTP request sent, awaiting response... 302 Found\n",
            "Location: https://raw.githubusercontent.com/drhoffma/HarperIDEAShopCVCC/main/assignments/00_assignment/assets/jpg/table_blurry.jpeg [following]\n",
            "--2021-07-28 14:05:12--  https://raw.githubusercontent.com/drhoffma/HarperIDEAShopCVCC/main/assignments/00_assignment/assets/jpg/table_blurry.jpeg\n",
            "Resolving raw.githubusercontent.com (raw.githubusercontent.com)... 185.199.108.133, 185.199.109.133, 185.199.110.133, ...\n",
            "Connecting to raw.githubusercontent.com (raw.githubusercontent.com)|185.199.108.133|:443... connected.\n",
            "HTTP request sent, awaiting response... 200 OK\n",
            "Length: 65786 (64K) [image/jpeg]\n",
            "Saving to: ‘table_blurry.jpeg.1’\n",
            "\n",
            "table_blurry.jpeg.1 100%[===================>]  64.24K  --.-KB/s    in 0.009s  \n",
            "\n",
            "2021-07-28 14:05:12 (7.02 MB/s) - ‘table_blurry.jpeg.1’ saved [65786/65786]\n",
            "\n",
            "--2021-07-28 14:05:12--  https://github.com/drhoffma/HarperIDEAShopCVCC/raw/main/assignments/00_assignment/assets/jpg/oberwesal.jpeg\n",
            "Resolving github.com (github.com)... 140.82.113.3\n",
            "Connecting to github.com (github.com)|140.82.113.3|:443... connected.\n",
            "HTTP request sent, awaiting response... 404 Not Found\n",
            "2021-07-28 14:05:13 ERROR 404: Not Found.\n",
            "\n"
          ],
          "name": "stdout"
        }
      ]
    },
    {
      "cell_type": "code",
      "metadata": {
        "id": "PKeVBmfxmpGq"
      },
      "source": [
        "# imports\n",
        "import cv2\n",
        "import numpy as np\n",
        "from numpy import ones\n",
        "import imutils\n",
        "from google.colab.patches import cv2_imshow\n",
        "\n",
        "# define your class, constructor, & methods\n",
        "\n",
        "class PingPongBallColorChanger:\n",
        "  def __init__(self, image):\n",
        "    self.image = image\n",
        "\n",
        "  def change_color(self, desired_color, color_hsv_min, color_hsv_max):\n",
        "\n",
        "    # convert image to HSV\n",
        "    hsv_img = cv2.cvtColor(self.image, cv2.COLOR_BGR2HSV)\n",
        "    \n",
        "    # mask out the orange using the HSV range\n",
        "    thresh = cv2.inRange(hsv_img, color_hsv_min, color_hsv_max)\n",
        "    #cv2_imshow(thresh)\n",
        "    \n",
        "    # create a blank image in the desired color\n",
        "    shape = hsv_img.shape\n",
        "    shape = list(shape)\n",
        "    solid_colored_image = ones(shape) * desired_color\n",
        "\n",
        "    #cv2_imshow(solid_colored_image)\n",
        "\n",
        "    # turn all white pixels to the desired color\n",
        "    desired_color_balls = cv2.bitwise_and(solid_colored_image, solid_colored_image, mask=thresh)\n",
        "    cv2_imshow(desired_color_balls)\n",
        "\n",
        "    # bitwise and the original image with the colored balls\n",
        "    # DOES NOT WORK\n",
        "    output = cv2.bitwise_and(self.image, self.image, mask=desired_color_balls)\n",
        "    # cv2_imshow(output)\n",
        "\n",
        "    # return the output\n",
        "    return output\n",
        "\n",
        "  def method1(self, param):\n",
        "    pass\n",
        "\n"
      ],
      "execution_count": 28,
      "outputs": []
    },
    {
      "cell_type": "code",
      "metadata": {
        "colab": {
          "base_uri": "https://localhost:8080/",
          "height": 981
        },
        "id": "FuYNXBv1mvPZ",
        "outputId": "f8a60d01-03ba-4b5b-e3d2-ab56616581c2"
      },
      "source": [
        "# test code\n",
        "\n",
        "# load your image with cv2.imread()\n",
        "image = cv2.imread(\"keyboard.jpeg\")\n",
        "\n",
        "# from the color range tool on David's machine\n",
        "hsv_min=(7, 26, 243)\n",
        "hsv_max=(36, 255, 255)\n",
        "\n",
        "# instantiate your class and create an object\n",
        "p = PingPongBallColorChanger(image)\n",
        "\n",
        "# call relevant methods\n",
        "desired_color = (0, 255, 0)\n",
        "output = p.change_color(desired_color, hsv_min, hsv_max)\n",
        "#cv2_imshow(output)"
      ],
      "execution_count": 29,
      "outputs": [
        {
          "output_type": "display_data",
          "data": {
            "image/png": "[encoded data removed]",
            "text/plain": [
              "<PIL.Image.Image image mode=RGB size=800x600 at 0x7F0476EA5750>"
            ]
          },
          "metadata": {
            "tags": []
          }
        },
        {
          "output_type": "error",
          "ename": "error",
          "evalue": "ignored",
          "traceback": [
            "\u001b[0;31m---------------------------------------------------------------------------\u001b[0m",
            "\u001b[0;31merror\u001b[0m                                     Traceback (most recent call last)",
            "\u001b[0;32m<ipython-input-29-dee5b9bd508a>\u001b[0m in \u001b[0;36m<module>\u001b[0;34m()\u001b[0m\n\u001b[1;32m     13\u001b[0m \u001b[0;31m# call relevant methods\u001b[0m\u001b[0;34m\u001b[0m\u001b[0;34m\u001b[0m\u001b[0;34m\u001b[0m\u001b[0m\n\u001b[1;32m     14\u001b[0m \u001b[0mdesired_color\u001b[0m \u001b[0;34m=\u001b[0m \u001b[0;34m(\u001b[0m\u001b[0;36m0\u001b[0m\u001b[0;34m,\u001b[0m \u001b[0;36m255\u001b[0m\u001b[0;34m,\u001b[0m \u001b[0;36m0\u001b[0m\u001b[0;34m)\u001b[0m\u001b[0;34m\u001b[0m\u001b[0;34m\u001b[0m\u001b[0m\n\u001b[0;32m---> 15\u001b[0;31m \u001b[0moutput\u001b[0m \u001b[0;34m=\u001b[0m \u001b[0mp\u001b[0m\u001b[0;34m.\u001b[0m\u001b[0mchange_color\u001b[0m\u001b[0;34m(\u001b[0m\u001b[0mdesired_color\u001b[0m\u001b[0;34m,\u001b[0m \u001b[0mhsv_min\u001b[0m\u001b[0;34m,\u001b[0m \u001b[0mhsv_max\u001b[0m\u001b[0;34m)\u001b[0m\u001b[0;34m\u001b[0m\u001b[0;34m\u001b[0m\u001b[0m\n\u001b[0m\u001b[1;32m     16\u001b[0m \u001b[0;31m#cv2_imshow(output)\u001b[0m\u001b[0;34m\u001b[0m\u001b[0;34m\u001b[0m\u001b[0;34m\u001b[0m\u001b[0m\n",
            "\u001b[0;32m<ipython-input-28-6b5a2099f3aa>\u001b[0m in \u001b[0;36mchange_color\u001b[0;34m(self, desired_color, color_hsv_min, color_hsv_max)\u001b[0m\n\u001b[1;32m     33\u001b[0m \u001b[0;34m\u001b[0m\u001b[0m\n\u001b[1;32m     34\u001b[0m     \u001b[0;31m# bitwise and the original image with the colored balls\u001b[0m\u001b[0;34m\u001b[0m\u001b[0;34m\u001b[0m\u001b[0;34m\u001b[0m\u001b[0m\n\u001b[0;32m---> 35\u001b[0;31m     \u001b[0moutput\u001b[0m \u001b[0;34m=\u001b[0m \u001b[0mcv2\u001b[0m\u001b[0;34m.\u001b[0m\u001b[0mbitwise_and\u001b[0m\u001b[0;34m(\u001b[0m\u001b[0mself\u001b[0m\u001b[0;34m.\u001b[0m\u001b[0mimage\u001b[0m\u001b[0;34m,\u001b[0m \u001b[0mself\u001b[0m\u001b[0;34m.\u001b[0m\u001b[0mimage\u001b[0m\u001b[0;34m,\u001b[0m \u001b[0mmask\u001b[0m\u001b[0;34m=\u001b[0m\u001b[0mdesired_color_balls\u001b[0m\u001b[0;34m)\u001b[0m\u001b[0;34m\u001b[0m\u001b[0;34m\u001b[0m\u001b[0m\n\u001b[0m\u001b[1;32m     36\u001b[0m     \u001b[0mcv2_imshow\u001b[0m\u001b[0;34m(\u001b[0m\u001b[0moutput\u001b[0m\u001b[0;34m)\u001b[0m\u001b[0;34m\u001b[0m\u001b[0;34m\u001b[0m\u001b[0m\n\u001b[1;32m     37\u001b[0m \u001b[0;34m\u001b[0m\u001b[0m\n",
            "\u001b[0;31merror\u001b[0m: OpenCV(4.1.2) /io/opencv/modules/core/src/arithm.cpp:245: error: (-215:Assertion failed) (mtype == CV_8U || mtype == CV_8S) && _mask.sameSize(*psrc1) in function 'binary_op'\n"
          ]
        }
      ]
    }
  ]
}