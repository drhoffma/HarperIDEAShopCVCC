{
  "nbformat": 4,
  "nbformat_minor": 0,
  "metadata": {
    "colab": {
      "name": "lessons/02_Computer_Vision_Basics.ipynb",
      "provenance": [],
      "authorship_tag": "ABX9TyOZHzQ3ylggnjP+rutpFDtd",
      "include_colab_link": true
    },
    "kernelspec": {
      "name": "python3",
      "display_name": "Python 3"
    },
    "language_info": {
      "name": "python"
    }
  },
  "cells": [
    {
      "cell_type": "markdown",
      "metadata": {
        "id": "view-in-github",
        "colab_type": "text"
      },
      "source": [
        "<a href=\"https://colab.research.google.com/github/drhoffma/HarperIDEAShopCVCC/blob/main/lessons/02_Computer_Vision_Basics.ipynb\" target=\"_parent\"><img src=\"https://colab.research.google.com/assets/colab-badge.svg\" alt=\"Open In Colab\"/></a>"
      ]
    },
    {
      "cell_type": "markdown",
      "metadata": {
        "id": "5Vc485TiAnv-"
      },
      "source": [
        "![](https://github.com/drhoffma/HarperIDEAShopCVCC/blob/main/colab_template/header_image.png?raw=true)\n",
        "\n",
        "# Welcome to **Harper College's IDEAShop** curriculum!\n",
        "\n",
        "**Course Title:** *Computer Vision, Cameras, & Code*\n",
        "\n",
        "**Quick Links:** [Homepage](https://tinyurl.com/harpercv-home) | [Syllabus](https://tinyurl.com/harpercv-syllabus) | [Blackboard](#) | [Instructor](https://davidrhoffman.net)\n",
        "\n",
        "***Terms of use:*** *This course is public domain. If you'd like to use content from this course, please request consent by [contacting Harper College MakerSpace](https://www.harpercollege.edu/maker/contact/index.php).*\n",
        "\n",
        "---"
      ]
    },
    {
      "cell_type": "markdown",
      "metadata": {
        "id": "fax-V4EEAt72"
      },
      "source": [
        "# Computer Vision Basics\n",
        "* Images and Pixels\n",
        "* Color Channels\n",
        "* Basic manipulations (resizing, flipping)\n",
        "* Extracting ROIs\n",
        "* Drawing\n",
        "* Masks\n",
        "* Blurring"
      ]
    },
    {
      "cell_type": "markdown",
      "metadata": {
        "id": "gwgz0X1hBMVP"
      },
      "source": [
        "## Images and Pixels"
      ]
    },
    {
      "cell_type": "code",
      "metadata": {
        "id": "yx8SZMJGBRF6"
      },
      "source": [
        "# code playground"
      ],
      "execution_count": null,
      "outputs": []
    },
    {
      "cell_type": "markdown",
      "metadata": {
        "id": "PZeMZCWGBXXA"
      },
      "source": [
        "## Color Channels"
      ]
    },
    {
      "cell_type": "code",
      "metadata": {
        "id": "qXWFJUMqBZeU"
      },
      "source": [
        "# code playground"
      ],
      "execution_count": null,
      "outputs": []
    },
    {
      "cell_type": "markdown",
      "metadata": {
        "id": "0I0w4W42BbFt"
      },
      "source": [
        "## Basic manipulations (resizing, flipping)"
      ]
    },
    {
      "cell_type": "code",
      "metadata": {
        "id": "KElLLDZIBfQo"
      },
      "source": [
        "# code playground"
      ],
      "execution_count": null,
      "outputs": []
    },
    {
      "cell_type": "markdown",
      "metadata": {
        "id": "KCcgvDFiBhCq"
      },
      "source": [
        "## Extracting ROIs"
      ]
    },
    {
      "cell_type": "code",
      "metadata": {
        "id": "ZNI10NlBBkGr"
      },
      "source": [
        "# code playground"
      ],
      "execution_count": null,
      "outputs": []
    },
    {
      "cell_type": "markdown",
      "metadata": {
        "id": "D4s7Rw6PBl_f"
      },
      "source": [
        "## Drawing"
      ]
    },
    {
      "cell_type": "code",
      "metadata": {
        "id": "kOgPvFkrBqEe"
      },
      "source": [
        "# code playground"
      ],
      "execution_count": null,
      "outputs": []
    },
    {
      "cell_type": "markdown",
      "metadata": {
        "id": "RYG_AxVQBsiX"
      },
      "source": [
        "## Masks"
      ]
    },
    {
      "cell_type": "code",
      "metadata": {
        "id": "nXJw5HpJBvRm"
      },
      "source": [
        "# code playground"
      ],
      "execution_count": null,
      "outputs": []
    },
    {
      "cell_type": "markdown",
      "metadata": {
        "id": "BPLZwWMlBxFi"
      },
      "source": [
        "## Blurring"
      ]
    },
    {
      "cell_type": "code",
      "metadata": {
        "id": "0IAIrJIbBy36"
      },
      "source": [
        "# code playground"
      ],
      "execution_count": null,
      "outputs": []
    }
  ]
}