{
  "nbformat": 4,
  "nbformat_minor": 0,
  "metadata": {
    "colab": {
      "name": "03_Computer_Vision_Basics_2.ipynb",
      "provenance": [],
      "collapsed_sections": [],
      "authorship_tag": "ABX9TyNS86y/ClI7w2ap3lVeec+X",
      "include_colab_link": true
    },
    "kernelspec": {
      "name": "python3",
      "display_name": "Python 3"
    },
    "language_info": {
      "name": "python"
    }
  },
  "cells": [
    {
      "cell_type": "markdown",
      "metadata": {
        "id": "view-in-github",
        "colab_type": "text"
      },
      "source": [
        "<a href=\"https://colab.research.google.com/github/drhoffma/HarperIDEAShopCVCC/blob/main/lessons/03_Computer_Vision_Basics_2.ipynb\" target=\"_parent\"><img src=\"https://colab.research.google.com/assets/colab-badge.svg\" alt=\"Open In Colab\"/></a>"
      ]
    },
    {
      "cell_type": "markdown",
      "metadata": {
        "id": "4uZ--c_dIjXq"
      },
      "source": [
        "![](https://github.com/drhoffma/HarperIDEAShopCVCC/blob/main/colab_template/header_image.png?raw=true)\n",
        "\n",
        "# Welcome to **Harper College's IDEAShop** curriculum!\n",
        "\n",
        "**Course Title:** *Computer Vision, Cameras, & Code*\n",
        "\n",
        "**Quick Links:** [Homepage](https://tinyurl.com/harpercv-home) | [Syllabus](https://tinyurl.com/harpercv-syllabus) | [Blackboard](#) | [Instructor](https://davidrhoffman.net)\n",
        "\n",
        "***Terms of use:*** *This course is public domain. If you'd like to use content from this course, please request consent by [contacting Harper College MakerSpace](https://www.harpercollege.edu/maker/contact/index.php).*\n",
        "\n",
        "---"
      ]
    },
    {
      "cell_type": "markdown",
      "metadata": {
        "id": "Xy5Olh8wJG4j"
      },
      "source": [
        "## Load an image\n"
      ]
    },
    {
      "cell_type": "code",
      "metadata": {
        "id": "srtYQTssJKzb"
      },
      "source": [
        "# code playground\n",
        "! wget https://github.com/drhoffma/HarperIDEAShopCVCC/raw/main/lessons/images/oberwesel_2.jpg"
      ],
      "execution_count": null,
      "outputs": []
    },
    {
      "cell_type": "code",
      "metadata": {
        "id": "9jHz49ggJQ1R"
      },
      "source": [
        "# imports\n",
        "import cv2\n",
        "import imutils\n",
        "from google.colab.patches import cv2_imshow\n",
        "\n",
        "# load an image\n",
        "image = cv2.imread(\"oberwesel_2.jpg\")\n",
        "\n",
        "# resize the image\n",
        "resized = imutils.resize(image, width=500)\n",
        "print(\"Image shape: {}\".format(str(resized.shape)))\n",
        "cv2_imshow(resized)"
      ],
      "execution_count": null,
      "outputs": []
    },
    {
      "cell_type": "markdown",
      "metadata": {
        "id": "FWWulLw_JxXW"
      },
      "source": [
        "## ROI (re-visit)"
      ]
    },
    {
      "cell_type": "code",
      "metadata": {
        "id": "tpvPy1kCJ2Mb"
      },
      "source": [
        "# code playground\n",
        "\n",
        "# slicing via image[y1:y2, x1:x2]\n",
        "\n",
        "# Your task: extract an ROI so that the sky is no-longer present\n",
        "# using the `resized` image"
      ],
      "execution_count": null,
      "outputs": []
    },
    {
      "cell_type": "markdown",
      "metadata": {
        "id": "OwCfAH7jIrYD"
      },
      "source": [
        "## Drawing"
      ]
    },
    {
      "cell_type": "code",
      "metadata": {
        "id": "jmDLAgZlIw8b"
      },
      "source": [
        "# code playground\n",
        "\n",
        "# Use the same image for all of the below steps\n",
        "drawing = resized.copy()\n",
        "\n",
        "# draw a green line from the church steeple top to the boat\n",
        "green = ()\n",
        "\n",
        "# draw a purple box around the church\n",
        "purple = ()\n",
        "\n",
        "# draw a yellow circle around the boat\n",
        "yellow = ()\n"
      ],
      "execution_count": null,
      "outputs": []
    },
    {
      "cell_type": "markdown",
      "metadata": {
        "id": "4aZnxUBVI0vh"
      },
      "source": [
        "## Masks"
      ]
    },
    {
      "cell_type": "code",
      "metadata": {
        "id": "UuWAilV2I2Tg"
      },
      "source": [
        "# code playground\n",
        "\n",
        "from numpy import zeros\n",
        "\n",
        "# create a blank image\n",
        "shape = resized.shape\n",
        "shape = list(shape)\n",
        "blank = zeros(shape)\n",
        "\n",
        "# display the blank image\n",
        "cv2_imshow(blank)\n",
        "\n",
        "# draw a white solid circle in the middle of the blank image\n",
        "\n",
        "\n",
        "\n",
        "# mask out the circle\n",
        "# bitwise_and"
      ],
      "execution_count": null,
      "outputs": []
    },
    {
      "cell_type": "markdown",
      "metadata": {
        "id": "Hwtq-fiVI4ZC"
      },
      "source": [
        "## Blurring"
      ]
    },
    {
      "cell_type": "code",
      "metadata": {
        "id": "kLeVBtSaJBBc"
      },
      "source": [
        "# code playground\n",
        "\n",
        "# Gaussian blur\n",
        "blurred = cv2.GaussianBlur(image, (11, 11), 0)\n",
        "cv2_imshow(blurred)\n",
        "\n",
        "# Gaussian blur with decreasing kernel size\n",
        "# make a for loop that displays a blurred image with progressively smaller kernels\n",
        "# start with (13, 13) and work down to (5, 5)\n",
        "kernels = []\n",
        "\n",
        "# blurring loop\n",
        "\n"
      ],
      "execution_count": null,
      "outputs": []
    }
  ]
}