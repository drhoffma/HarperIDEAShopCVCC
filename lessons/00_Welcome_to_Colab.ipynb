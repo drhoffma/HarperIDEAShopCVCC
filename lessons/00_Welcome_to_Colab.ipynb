{
  "nbformat": 4,
  "nbformat_minor": 0,
  "metadata": {
    "colab": {
      "name": "00 - Welcome to Colab.ipynb",
      "provenance": [],
      "collapsed_sections": [],
      "include_colab_link": true
    },
    "kernelspec": {
      "name": "python3",
      "display_name": "Python 3"
    },
    "language_info": {
      "name": "python"
    }
  },
  "cells": [
    {
      "cell_type": "markdown",
      "metadata": {
        "id": "view-in-github",
        "colab_type": "text"
      },
      "source": [
        "<a href=\"https://colab.research.google.com/github/drhoffma/HarperIDEAShopCVCC/blob/main/lessons/00_Welcome_to_Colab.ipynb\" target=\"_parent\"><img src=\"https://colab.research.google.com/assets/colab-badge.svg\" alt=\"Open In Colab\"/></a>"
      ]
    },
    {
      "cell_type": "markdown",
      "metadata": {
        "id": "4mW1paBLK79f"
      },
      "source": [
        "![](https://github.com/drhoffma/HarperIDEAShopCVCC/blob/main/colab_template/header_image.png?raw=true)\n",
        "\n",
        "# Welcome to **Harper College's IDEAShop** curriculum!\n",
        "\n",
        "**Course Title:** *Computer Vision, Cameras, & Code*\n",
        "\n",
        "**Quick Links:** [Homepage](https://tinyurl.com/harpercv-home) | [Syllabus](https://tinyurl.com/harpercv-syllabus) | [Blackboard](#) | [Instructor](https://davidrhoffman.net)\n",
        "\n",
        "***Terms of use:*** *This course is public domain. If you'd like to use content from this course, please request consent by [contacting Harper College MakerSpace](https://www.harpercollege.edu/maker/contact/index.php).*\n",
        "\n",
        "---\n"
      ]
    },
    {
      "cell_type": "markdown",
      "metadata": {
        "id": "7GfaFKfBOCvd"
      },
      "source": [
        "# Welcome to Colab Notebooks\n",
        "\n",
        "Google's Colab Notebooks built on top of Python's Jupyter allow you to execute code directly in your browser.\n",
        "\n",
        "These notebooks are a powerful way to explore the powerful Python programming language and put it to use for data science, artificial intelligigence, and computer vision.\n",
        "\n",
        "# Calling all 🦅 HAWKS 🦅 !!\n",
        "\n",
        "Each time you see the swooping bird emoji (Harper College's mascot is the 🦅 Hawk 🦅), be sure to take ACTION by running the code, adding a code hack, or following the instructions provided.\n",
        "\n",
        "# Building Blocks\n",
        "\n",
        "## Text Blocks\n",
        "\n",
        "Text blocks use Markdown formatting as well as HTML.  \n",
        "\n",
        "🦅 Do it! Double click this block and adjust the text!\n",
        "\n",
        "## Code Blocks\n",
        "\n",
        "Inside a code block, you can enter Python or Bash. Let's try it!"
      ]
    },
    {
      "cell_type": "code",
      "metadata": {
        "colab": {
          "base_uri": "https://localhost:8080/"
        },
        "id": "98v8UUZjPI7Q",
        "outputId": "e6224440-20a7-4286-e142-8cfffa086545"
      },
      "source": [
        "# example Python\n",
        "print(\"Hello World!\")\n",
        "\n",
        "# example Bash to download an image\n",
        "! mkdir temp\n",
        "! cd temp\n",
        "! wget https://opencv.org/wp-content/uploads/2020/07/cropped-OpenCV_logo_white_600x.png\n",
        "! ls"
      ],
      "execution_count": null,
      "outputs": [
        {
          "output_type": "stream",
          "text": [
            "Hello World!\n",
            "mkdir: cannot create directory ‘temp’: File exists\n",
            "--2021-06-03 19:00:50--  https://opencv.org/wp-content/uploads/2020/07/cropped-OpenCV_logo_white_600x.png\n",
            "Resolving opencv.org (opencv.org)... 50.28.17.172\n",
            "Connecting to opencv.org (opencv.org)|50.28.17.172|:443... connected.\n",
            "HTTP request sent, awaiting response... 200 OK\n",
            "Length: 38890 (38K) [image/png]\n",
            "Saving to: ‘cropped-OpenCV_logo_white_600x.png’\n",
            "\n",
            "cropped-OpenCV_logo 100%[===================>]  37.98K  --.-KB/s    in 0.04s   \n",
            "\n",
            "2021-06-03 19:00:50 (1.01 MB/s) - ‘cropped-OpenCV_logo_white_600x.png’ saved [38890/38890]\n",
            "\n",
            "cropped-OpenCV_logo_white_600x.png  sample_data  temp\n"
          ],
          "name": "stdout"
        }
      ]
    },
    {
      "cell_type": "markdown",
      "metadata": {
        "id": "kJk9fsgcPtx2"
      },
      "source": [
        "🦅 Do it! To execute the above code block, simply press the \"play\" or \"|>\" button next to the block.\n",
        "\n",
        "What did the above code do?\n",
        "\n",
        "1.   Python: Invoked the Python interpretr's `print` command\n",
        "2.   Bash: Created a `temp` directory\n",
        "3.   Bash: Changed into the directory with the `cd` command\n",
        "4.   Bash: Downloaded the OpenCV logo with `wget`\n",
        "5.   Bash: Listed the directory contents\n",
        "\n"
      ]
    }
  ]
}