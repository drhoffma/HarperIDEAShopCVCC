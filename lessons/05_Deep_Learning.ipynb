{
  "nbformat": 4,
  "nbformat_minor": 0,
  "metadata": {
    "colab": {
      "name": "05_Deep_Learning.ipynb",
      "provenance": [],
      "collapsed_sections": [],
      "authorship_tag": "ABX9TyMLjOl6e6U8b4gWYP/7Z9s7",
      "include_colab_link": true
    },
    "kernelspec": {
      "name": "python3",
      "display_name": "Python 3"
    },
    "language_info": {
      "name": "python"
    }
  },
  "cells": [
    {
      "cell_type": "markdown",
      "metadata": {
        "id": "view-in-github",
        "colab_type": "text"
      },
      "source": [
        "<a href=\"https://colab.research.google.com/github/drhoffma/HarperIDEAShopCVCC/blob/main/lessons/05_Deep_Learning.ipynb\" target=\"_parent\"><img src=\"https://colab.research.google.com/assets/colab-badge.svg\" alt=\"Open In Colab\"/></a>"
      ]
    },
    {
      "cell_type": "markdown",
      "metadata": {
        "id": "ue3X_iJExx4f"
      },
      "source": [
        "![](https://github.com/drhoffma/HarperIDEAShopCVCC/blob/main/colab_template/header_image.png?raw=true)\n",
        "\n",
        "# Welcome to **Harper College's IDEAShop** curriculum!\n",
        "\n",
        "**Course Title:** *Computer Vision, Cameras, & Code*\n",
        "\n",
        "**Quick Links:** [Homepage](https://tinyurl.com/harpercv-home) | [Syllabus](https://tinyurl.com/harpercv-syllabus) | [Blackboard](#) | [Instructor](https://davidrhoffman.net)\n",
        "\n",
        "***Terms of use:*** *This course is public domain. If you'd like to use content from this course, please request consent by [contacting Harper College MakerSpace](https://www.harpercollege.edu/maker/contact/index.php).*\n",
        "\n",
        "---"
      ]
    },
    {
      "cell_type": "markdown",
      "metadata": {
        "id": "E-DFyt0UxgFE"
      },
      "source": [
        "# Deep Learning\n",
        "\n",
        "* Image Classification - is the entire image representative of a \"dog\"?\n",
        "* Object Detection - where is the \"dog\" in the image?\n",
        "* Segmentation - highlight all the pixels where the \"dog\" is in the image\n",
        "\n",
        "(replace \"dog\" with your favorite class of data)"
      ]
    },
    {
      "cell_type": "markdown",
      "metadata": {
        "id": "92GugWWmxnoN"
      },
      "source": [
        "## Training"
      ]
    },
    {
      "cell_type": "markdown",
      "metadata": {
        "id": "d6-D940crgxK"
      },
      "source": [
        "### ShallowNet CNN from PyImageSearch's Deep Learning Book"
      ]
    },
    {
      "cell_type": "code",
      "metadata": {
        "colab": {
          "base_uri": "https://localhost:8080/"
        },
        "id": "L5qk6fWtrdsi",
        "outputId": "34c363ac-114b-489a-a7d9-955b1680b8c2"
      },
      "source": [
        "# CNN code\n",
        "\n",
        "# imports\n",
        "from tensorflow.keras.models import Sequential\n",
        "from tensorflow.keras.layers import Conv2D\n",
        "from tensorflow.keras.layers import Activation\n",
        "from tensorflow.keras.layers import Flatten\n",
        "from tensorflow.keras.layers import Dense\n",
        "from tensorflow.keras import backend as K\n",
        "\n",
        "# CNN class\n",
        "class ShallowNet:\n",
        "  @staticmethod\n",
        "  def build(width, height, depth, classes):\n",
        "    # initialize the model\n",
        "    model = Sequential()\n",
        "\n",
        "    # initialize the input shape\n",
        "    inputShape = (height, width, depth)\n",
        "\n",
        "    # handle \"channels first\"\n",
        "    if K.image_data_format() == \"channels_first\":\n",
        "      inputShape = (depth, height, width)\n",
        "\n",
        "    # add layers to our model \n",
        "    model.add(Conv2D(32, (3, 3), padding=\"same\", input_shape=inputShape))\n",
        "    model.add(Activation(\"relu\"))\n",
        "\n",
        "    # softmax classifier\n",
        "    model.add(Flatten())\n",
        "    model.add(Dense(classes))\n",
        "    model.add(Activation(\"softmax\")) # produce the probabilities which sum to 1\n",
        "\n",
        "    # return the CNN structure\n",
        "    return model\n",
        "\n",
        "\n",
        "s = ShallowNet()\n",
        "model = s.build(244, 244, 3, 3)\n",
        "print(model.summary())\n",
        "\n",
        "print(1000 * 100 * 5716355)"
      ],
      "execution_count": 16,
      "outputs": [
        {
          "output_type": "stream",
          "text": [
            "Model: \"sequential_2\"\n",
            "_________________________________________________________________\n",
            "Layer (type)                 Output Shape              Param #   \n",
            "=================================================================\n",
            "conv2d_2 (Conv2D)            (None, 244, 244, 32)      896       \n",
            "_________________________________________________________________\n",
            "activation_4 (Activation)    (None, 244, 244, 32)      0         \n",
            "_________________________________________________________________\n",
            "flatten_2 (Flatten)          (None, 1905152)           0         \n",
            "_________________________________________________________________\n",
            "dense_2 (Dense)              (None, 3)                 5715459   \n",
            "_________________________________________________________________\n",
            "activation_5 (Activation)    (None, 3)                 0         \n",
            "=================================================================\n",
            "Total params: 5,716,355\n",
            "Trainable params: 5,716,355\n",
            "Non-trainable params: 0\n",
            "_________________________________________________________________\n",
            "None\n",
            "571635500000\n"
          ],
          "name": "stdout"
        }
      ]
    },
    {
      "cell_type": "markdown",
      "metadata": {
        "id": "Zxm3yT-HBEHt"
      },
      "source": [
        "### PyImageSearch Preprocessing modules from their Deep Learning Book"
      ]
    },
    {
      "cell_type": "markdown",
      "metadata": {
        "id": "PT2ofML1Bf1U"
      },
      "source": [
        "#### Image to Array Preprocessor"
      ]
    },
    {
      "cell_type": "code",
      "metadata": {
        "id": "6GNPRVQCBLv1"
      },
      "source": [
        "# import the necessary packages\n",
        "from tensorflow.keras.preprocessing.image import img_to_array\n",
        "\n",
        "class ImageToArrayPreprocessor:\n",
        "\tdef __init__(self, dataFormat=None):\n",
        "\t\t# store the image data format\n",
        "\t\tself.dataFormat = dataFormat\n",
        "\n",
        "\tdef preprocess(self, image):\n",
        "\t\t# apply the Keras utility function that correctly rearranges\n",
        "\t\t# the dimensions of the image\n",
        "\t\treturn img_to_array(image, data_format=self.dataFormat)"
      ],
      "execution_count": 12,
      "outputs": []
    },
    {
      "cell_type": "markdown",
      "metadata": {
        "id": "SipCG7kbBjSo"
      },
      "source": [
        "#### Simple Preprocessor"
      ]
    },
    {
      "cell_type": "code",
      "metadata": {
        "id": "Y3Nl-rBmBd28"
      },
      "source": [
        "# import the necessary packages\n",
        "import cv2\n",
        "\n",
        "class SimplePreprocessor:\n",
        "\tdef __init__(self, width, height, inter=cv2.INTER_AREA):\n",
        "\t\t# store the target image width, height, and interpolation\n",
        "\t\t# method used when resizing\n",
        "\t\tself.width = width\n",
        "\t\tself.height = height\n",
        "\t\tself.inter = inter\n",
        "\n",
        "\tdef preprocess(self, image):\n",
        "\t\t# resize the image to a fixed size, ignoring the aspect\n",
        "\t\t# ratio\n",
        "\t\treturn cv2.resize(image, (self.width, self.height),\n",
        "\t\t\tinterpolation=self.inter)"
      ],
      "execution_count": 14,
      "outputs": []
    },
    {
      "cell_type": "markdown",
      "metadata": {
        "id": "zNsAVRVWETAc"
      },
      "source": [
        "#### Simple Dataset Loader"
      ]
    },
    {
      "cell_type": "code",
      "metadata": {
        "id": "ffeWXT-cEVp8"
      },
      "source": [
        "# import the necessary packages\n",
        "import numpy as np\n",
        "import cv2\n",
        "import os\n",
        "\n",
        "class SimpleDatasetLoader:\n",
        "\tdef __init__(self, preprocessors=None):\n",
        "\t\t# store the image preprocessor\n",
        "\t\tself.preprocessors = preprocessors\n",
        "\n",
        "\t\t# if the preprocessors are None, initialize them as an\n",
        "\t\t# empty list\n",
        "\t\tif self.preprocessors is None:\n",
        "\t\t\tself.preprocessors = []\n",
        "\n",
        "\tdef load(self, imagePaths, verbose=-1):\n",
        "\t\t# initialize the list of features and labels\n",
        "\t\tdata = []\n",
        "\t\tlabels = []\n",
        "\n",
        "\t\t# loop over the input images\n",
        "\t\tfor (i, imagePath) in enumerate(imagePaths):\n",
        "\t\t\t# load the image and extract the class label assuming\n",
        "\t\t\t# that our path has the following format:\n",
        "\t\t\t# /path/to/dataset/{class}/{image}.jpg\n",
        "\t\t\timage = cv2.imread(imagePath)\n",
        "\t\t\tlabel = imagePath.split(os.path.sep)[-2]\n",
        "\n",
        "\t\t\t# check to see if our preprocessors are not None\n",
        "\t\t\tif self.preprocessors is not None:\n",
        "\t\t\t\t# loop over the preprocessors and apply each to\n",
        "\t\t\t\t# the image\n",
        "\t\t\t\tfor p in self.preprocessors:\n",
        "\t\t\t\t\timage = p.preprocess(image)\n",
        "\n",
        "\t\t\t# treat our processed image as a \"feature vector\"\n",
        "\t\t\t# by updating the data list followed by the labels\n",
        "\t\t\tdata.append(image)\n",
        "\t\t\tlabels.append(label)\n",
        "\n",
        "\t\t\t# show an update every `verbose` images\n",
        "\t\t\tif verbose > 0 and i > 0 and (i + 1) % verbose == 0:\n",
        "\t\t\t\tprint(\"[INFO] processed {}/{}\".format(i + 1,\n",
        "\t\t\t\t\tlen(imagePaths)))\n",
        "\n",
        "\t\t# return a tuple of the data and labels\n",
        "\t\treturn (np.array(data), np.array(labels))"
      ],
      "execution_count": 15,
      "outputs": []
    },
    {
      "cell_type": "markdown",
      "metadata": {
        "id": "Mzydx-o5rs_4"
      },
      "source": [
        "### Training Code"
      ]
    },
    {
      "cell_type": "code",
      "metadata": {
        "id": "AacBWyBwOxFz"
      },
      "source": [
        "# mount your google drive (confirm via the link)\n",
        "from google.colab import drive\n",
        "drive.mount('/content/gdrive')"
      ],
      "execution_count": null,
      "outputs": []
    },
    {
      "cell_type": "code",
      "metadata": {
        "id": "UjXvt-SaK1tm"
      },
      "source": [
        "\n",
        "! unzip 'gdrive/My Drive/Colab Notebooks/animals.zip'"
      ],
      "execution_count": null,
      "outputs": []
    },
    {
      "cell_type": "code",
      "metadata": {
        "id": "GJY2Ltjn6Eix",
        "colab": {
          "base_uri": "https://localhost:8080/",
          "height": 1000
        },
        "outputId": "e9568295-da89-4118-a893-24f15e897ff3"
      },
      "source": [
        "# imports\n",
        "from sklearn.preprocessing import LabelBinarizer\n",
        "from sklearn.model_selection import train_test_split\n",
        "from sklearn.metrics import classification_report\n",
        "from tensorflow.keras.optimizers import SGD\n",
        "from imutils import paths\n",
        "import matplotlib.pyplot as plt\n",
        "import numpy as np\n",
        "\n",
        "# load a dataset\n",
        "data_path = \"animals\"\n",
        "imagePaths = list(paths.list_images(data_path))\n",
        "\n",
        "# initialize our preprocessors\n",
        "iap = ImageToArrayPreprocessor()\n",
        "sp = SimplePreprocessor(32, 32)\n",
        "\n",
        "##### load data\n",
        "sdl = SimpleDatasetLoader(preprocessors=[iap, sp])\n",
        "(data, labels) = sdl.load(imagePaths)\n",
        "\n",
        "# scale the pixel intensities from the range [0, 255] to [0, 1]\n",
        "data = data.astype(\"float\") / 255.0\n",
        "\n",
        "# separate the data into 75% training & 25% testing\n",
        "(trainX, testX, trainY, testY) = train_test_split(data, labels, test_size=0.25, random_state=42)\n",
        "\n",
        "# convert labels from integers to \"one-hot encoded\" vectors\n",
        "# three class [cat, dog, panda]\n",
        "# cat would be represented as [1, 0, 0] vector\n",
        "# panda would be represented as [0, 0, 1] vector\n",
        "trainY = LabelBinarizer().fit_transform(trainY)\n",
        "testY = LabelBinarizer().fit_transform(testY)\n",
        "\n",
        "# load the model\n",
        "opt = SGD(lr=0.005)\n",
        "model = ShallowNet.build(width=32, height=32, depth=3, classes=3)\n",
        "model.compile(loss=\"categorical_crossentropy\", optimizer=opt, metrics=[\"accuracy\"])\n",
        "\n",
        "# train the model on the data\n",
        "print(\"========= TRAINING IS STARTING ============\")\n",
        "EPOCHS = 100\n",
        "H = model.fit(trainX, trainY, validation_data=(testX, testY), batch_size=32, epochs=EPOCHS, verbose=1)\n",
        "\n",
        "# evaluate the model\n",
        "predictions = model.predict(testX, batch_size=32)\n",
        "print(classification_report(testY.argmax(axis=1), predictions.argmax(axis=1), target_names=[\"cat\", \"dog\", \"panda\"]))\n",
        "\n",
        "# plot the training loss and accuracy\n",
        "plt.style.use(\"ggplot\")\n",
        "plt.figure()\n",
        "plt.plot(np.arange(0, EPOCHS), H.history[\"loss\"], label=\"train_loss\")\n",
        "plt.plot(np.arange(0, EPOCHS), H.history[\"val_loss\"], label=\"val_loss\")\n",
        "plt.plot(np.arange(0, EPOCHS), H.history[\"accuracy\"], label=\"train_acc\")\n",
        "plt.plot(np.arange(0, EPOCHS), H.history[\"val_accuracy\"], label=\"val_acc\")\n",
        "plt.title(\"Training Loss and Accuracy\")\n",
        "plt.xlabel(\"Epoch #\")\n",
        "plt.ylabel(\"Loss/Accuracy\")\n",
        "plt.legend()\n",
        "plt.show()"
      ],
      "execution_count": 22,
      "outputs": [
        {
          "output_type": "stream",
          "text": [
            "/usr/local/lib/python3.7/dist-packages/tensorflow/python/keras/optimizer_v2/optimizer_v2.py:375: UserWarning: The `lr` argument is deprecated, use `learning_rate` instead.\n",
            "  \"The `lr` argument is deprecated, use `learning_rate` instead.\")\n"
          ],
          "name": "stderr"
        },
        {
          "output_type": "stream",
          "text": [
            "========= TRAINING IS STARTING ============\n",
            "Epoch 1/100\n",
            "71/71 [==============================] - 2s 24ms/step - loss: 1.0179 - accuracy: 0.4573 - val_loss: 0.9712 - val_accuracy: 0.4880\n",
            "Epoch 2/100\n",
            "71/71 [==============================] - 2s 21ms/step - loss: 0.9298 - accuracy: 0.5418 - val_loss: 0.9217 - val_accuracy: 0.5533\n",
            "Epoch 3/100\n",
            "71/71 [==============================] - 1s 21ms/step - loss: 0.8925 - accuracy: 0.5609 - val_loss: 1.0090 - val_accuracy: 0.5360\n",
            "Epoch 4/100\n",
            "71/71 [==============================] - 1s 21ms/step - loss: 0.8707 - accuracy: 0.5782 - val_loss: 0.9110 - val_accuracy: 0.5440\n",
            "Epoch 5/100\n",
            "71/71 [==============================] - 1s 21ms/step - loss: 0.8511 - accuracy: 0.5782 - val_loss: 0.8851 - val_accuracy: 0.5467\n",
            "Epoch 6/100\n",
            "71/71 [==============================] - 1s 21ms/step - loss: 0.8342 - accuracy: 0.5880 - val_loss: 0.8730 - val_accuracy: 0.5573\n",
            "Epoch 7/100\n",
            "71/71 [==============================] - 1s 21ms/step - loss: 0.8234 - accuracy: 0.5960 - val_loss: 0.9450 - val_accuracy: 0.5507\n",
            "Epoch 8/100\n",
            "71/71 [==============================] - 1s 21ms/step - loss: 0.8137 - accuracy: 0.6013 - val_loss: 0.8610 - val_accuracy: 0.5440\n",
            "Epoch 9/100\n",
            "71/71 [==============================] - 2s 21ms/step - loss: 0.7970 - accuracy: 0.6173 - val_loss: 0.8797 - val_accuracy: 0.5453\n",
            "Epoch 10/100\n",
            "71/71 [==============================] - 2s 21ms/step - loss: 0.7883 - accuracy: 0.6049 - val_loss: 0.8489 - val_accuracy: 0.5600\n",
            "Epoch 11/100\n",
            "71/71 [==============================] - 1s 21ms/step - loss: 0.7867 - accuracy: 0.6138 - val_loss: 0.8353 - val_accuracy: 0.5733\n",
            "Epoch 12/100\n",
            "71/71 [==============================] - 1s 21ms/step - loss: 0.7767 - accuracy: 0.6142 - val_loss: 0.8616 - val_accuracy: 0.5507\n",
            "Epoch 13/100\n",
            "71/71 [==============================] - 2s 21ms/step - loss: 0.7715 - accuracy: 0.6253 - val_loss: 0.9290 - val_accuracy: 0.5347\n",
            "Epoch 14/100\n",
            "71/71 [==============================] - 2s 21ms/step - loss: 0.7640 - accuracy: 0.6378 - val_loss: 0.8826 - val_accuracy: 0.5320\n",
            "Epoch 15/100\n",
            "71/71 [==============================] - 2s 22ms/step - loss: 0.7558 - accuracy: 0.6360 - val_loss: 0.8733 - val_accuracy: 0.5640\n",
            "Epoch 16/100\n",
            "71/71 [==============================] - 2s 21ms/step - loss: 0.7463 - accuracy: 0.6471 - val_loss: 0.8980 - val_accuracy: 0.5600\n",
            "Epoch 17/100\n",
            "71/71 [==============================] - 2s 21ms/step - loss: 0.7474 - accuracy: 0.6458 - val_loss: 0.8124 - val_accuracy: 0.5853\n",
            "Epoch 18/100\n",
            "71/71 [==============================] - 2s 21ms/step - loss: 0.7375 - accuracy: 0.6551 - val_loss: 0.8515 - val_accuracy: 0.5787\n",
            "Epoch 19/100\n",
            "71/71 [==============================] - 1s 21ms/step - loss: 0.7260 - accuracy: 0.6684 - val_loss: 0.8256 - val_accuracy: 0.5747\n",
            "Epoch 20/100\n",
            "71/71 [==============================] - 1s 21ms/step - loss: 0.7195 - accuracy: 0.6644 - val_loss: 0.8154 - val_accuracy: 0.5920\n",
            "Epoch 21/100\n",
            "71/71 [==============================] - 1s 21ms/step - loss: 0.7168 - accuracy: 0.6684 - val_loss: 0.9125 - val_accuracy: 0.5613\n",
            "Epoch 22/100\n",
            "71/71 [==============================] - 2s 21ms/step - loss: 0.7056 - accuracy: 0.6778 - val_loss: 0.7918 - val_accuracy: 0.6040\n",
            "Epoch 23/100\n",
            "71/71 [==============================] - 1s 21ms/step - loss: 0.6986 - accuracy: 0.6764 - val_loss: 0.8136 - val_accuracy: 0.6027\n",
            "Epoch 24/100\n",
            "71/71 [==============================] - 2s 21ms/step - loss: 0.6937 - accuracy: 0.6898 - val_loss: 0.7920 - val_accuracy: 0.6213\n",
            "Epoch 25/100\n",
            "71/71 [==============================] - 2s 21ms/step - loss: 0.6852 - accuracy: 0.6933 - val_loss: 0.8401 - val_accuracy: 0.5760\n",
            "Epoch 26/100\n",
            "71/71 [==============================] - 1s 21ms/step - loss: 0.6804 - accuracy: 0.6951 - val_loss: 0.7879 - val_accuracy: 0.6293\n",
            "Epoch 27/100\n",
            "71/71 [==============================] - 2s 22ms/step - loss: 0.6680 - accuracy: 0.7000 - val_loss: 0.7787 - val_accuracy: 0.6333\n",
            "Epoch 28/100\n",
            "71/71 [==============================] - 2s 21ms/step - loss: 0.6614 - accuracy: 0.7040 - val_loss: 0.7865 - val_accuracy: 0.5973\n",
            "Epoch 29/100\n",
            "71/71 [==============================] - 2s 22ms/step - loss: 0.6544 - accuracy: 0.7044 - val_loss: 0.7803 - val_accuracy: 0.6227\n",
            "Epoch 30/100\n",
            "71/71 [==============================] - 1s 21ms/step - loss: 0.6479 - accuracy: 0.7169 - val_loss: 0.7917 - val_accuracy: 0.6227\n",
            "Epoch 31/100\n",
            "71/71 [==============================] - 1s 21ms/step - loss: 0.6458 - accuracy: 0.7098 - val_loss: 0.7691 - val_accuracy: 0.6333\n",
            "Epoch 32/100\n",
            "71/71 [==============================] - 1s 21ms/step - loss: 0.6404 - accuracy: 0.7231 - val_loss: 0.7833 - val_accuracy: 0.6320\n",
            "Epoch 33/100\n",
            "71/71 [==============================] - 2s 21ms/step - loss: 0.6261 - accuracy: 0.7240 - val_loss: 0.7907 - val_accuracy: 0.6227\n",
            "Epoch 34/100\n",
            "71/71 [==============================] - 1s 21ms/step - loss: 0.6219 - accuracy: 0.7387 - val_loss: 0.8517 - val_accuracy: 0.5867\n",
            "Epoch 35/100\n",
            "71/71 [==============================] - 2s 21ms/step - loss: 0.6204 - accuracy: 0.7320 - val_loss: 0.7966 - val_accuracy: 0.6240\n",
            "Epoch 36/100\n",
            "71/71 [==============================] - 1s 21ms/step - loss: 0.6171 - accuracy: 0.7262 - val_loss: 0.7619 - val_accuracy: 0.6240\n",
            "Epoch 37/100\n",
            "71/71 [==============================] - 2s 21ms/step - loss: 0.6054 - accuracy: 0.7391 - val_loss: 0.8010 - val_accuracy: 0.6147\n",
            "Epoch 38/100\n",
            "71/71 [==============================] - 1s 21ms/step - loss: 0.5988 - accuracy: 0.7480 - val_loss: 0.7557 - val_accuracy: 0.6427\n",
            "Epoch 39/100\n",
            "71/71 [==============================] - 2s 21ms/step - loss: 0.5926 - accuracy: 0.7520 - val_loss: 0.7559 - val_accuracy: 0.6373\n",
            "Epoch 40/100\n",
            "71/71 [==============================] - 1s 21ms/step - loss: 0.5929 - accuracy: 0.7493 - val_loss: 0.7489 - val_accuracy: 0.6413\n",
            "Epoch 41/100\n",
            "71/71 [==============================] - 2s 21ms/step - loss: 0.5834 - accuracy: 0.7511 - val_loss: 0.7629 - val_accuracy: 0.6467\n",
            "Epoch 42/100\n",
            "71/71 [==============================] - 2s 22ms/step - loss: 0.5764 - accuracy: 0.7542 - val_loss: 0.7460 - val_accuracy: 0.6480\n",
            "Epoch 43/100\n",
            "71/71 [==============================] - 2s 21ms/step - loss: 0.5717 - accuracy: 0.7609 - val_loss: 0.8184 - val_accuracy: 0.6107\n",
            "Epoch 44/100\n",
            "71/71 [==============================] - 1s 21ms/step - loss: 0.5584 - accuracy: 0.7698 - val_loss: 0.8236 - val_accuracy: 0.6200\n",
            "Epoch 45/100\n",
            "71/71 [==============================] - 2s 21ms/step - loss: 0.5611 - accuracy: 0.7698 - val_loss: 0.7545 - val_accuracy: 0.6467\n",
            "Epoch 46/100\n",
            "71/71 [==============================] - 1s 21ms/step - loss: 0.5548 - accuracy: 0.7720 - val_loss: 0.7417 - val_accuracy: 0.6587\n",
            "Epoch 47/100\n",
            "71/71 [==============================] - 2s 21ms/step - loss: 0.5549 - accuracy: 0.7733 - val_loss: 0.7442 - val_accuracy: 0.6467\n",
            "Epoch 48/100\n",
            "71/71 [==============================] - 1s 21ms/step - loss: 0.5436 - accuracy: 0.7782 - val_loss: 0.7630 - val_accuracy: 0.6307\n",
            "Epoch 49/100\n",
            "71/71 [==============================] - 2s 21ms/step - loss: 0.5421 - accuracy: 0.7716 - val_loss: 0.8627 - val_accuracy: 0.5933\n",
            "Epoch 50/100\n",
            "71/71 [==============================] - 2s 22ms/step - loss: 0.5340 - accuracy: 0.7778 - val_loss: 0.7871 - val_accuracy: 0.6373\n",
            "Epoch 51/100\n",
            "71/71 [==============================] - 2s 21ms/step - loss: 0.5256 - accuracy: 0.7876 - val_loss: 0.7785 - val_accuracy: 0.6333\n",
            "Epoch 52/100\n",
            "71/71 [==============================] - 1s 21ms/step - loss: 0.5270 - accuracy: 0.7853 - val_loss: 0.7782 - val_accuracy: 0.6453\n",
            "Epoch 53/100\n",
            "71/71 [==============================] - 2s 21ms/step - loss: 0.5209 - accuracy: 0.7924 - val_loss: 0.8371 - val_accuracy: 0.6200\n",
            "Epoch 54/100\n",
            "71/71 [==============================] - 2s 21ms/step - loss: 0.5128 - accuracy: 0.7933 - val_loss: 0.8777 - val_accuracy: 0.5787\n",
            "Epoch 55/100\n",
            "71/71 [==============================] - 1s 21ms/step - loss: 0.5163 - accuracy: 0.7880 - val_loss: 0.8035 - val_accuracy: 0.6120\n",
            "Epoch 56/100\n",
            "71/71 [==============================] - 2s 21ms/step - loss: 0.5061 - accuracy: 0.7951 - val_loss: 0.7789 - val_accuracy: 0.6293\n",
            "Epoch 57/100\n",
            "71/71 [==============================] - 2s 21ms/step - loss: 0.5060 - accuracy: 0.8044 - val_loss: 0.7387 - val_accuracy: 0.6600\n",
            "Epoch 58/100\n",
            "71/71 [==============================] - 2s 21ms/step - loss: 0.4931 - accuracy: 0.8018 - val_loss: 0.8239 - val_accuracy: 0.6267\n",
            "Epoch 59/100\n",
            "71/71 [==============================] - 1s 21ms/step - loss: 0.4914 - accuracy: 0.8044 - val_loss: 0.8251 - val_accuracy: 0.6040\n",
            "Epoch 60/100\n",
            "71/71 [==============================] - 2s 21ms/step - loss: 0.4847 - accuracy: 0.8133 - val_loss: 0.7398 - val_accuracy: 0.6627\n",
            "Epoch 61/100\n",
            "71/71 [==============================] - 1s 21ms/step - loss: 0.4834 - accuracy: 0.8071 - val_loss: 0.7705 - val_accuracy: 0.6427\n",
            "Epoch 62/100\n",
            "71/71 [==============================] - 2s 21ms/step - loss: 0.4748 - accuracy: 0.8116 - val_loss: 0.7320 - val_accuracy: 0.6613\n",
            "Epoch 63/100\n",
            "71/71 [==============================] - 1s 21ms/step - loss: 0.4713 - accuracy: 0.8120 - val_loss: 0.7329 - val_accuracy: 0.6720\n",
            "Epoch 64/100\n",
            "71/71 [==============================] - 2s 21ms/step - loss: 0.4738 - accuracy: 0.8084 - val_loss: 0.7393 - val_accuracy: 0.6547\n",
            "Epoch 65/100\n",
            "71/71 [==============================] - 2s 21ms/step - loss: 0.4591 - accuracy: 0.8249 - val_loss: 0.7302 - val_accuracy: 0.6627\n",
            "Epoch 66/100\n",
            "71/71 [==============================] - 2s 21ms/step - loss: 0.4580 - accuracy: 0.8178 - val_loss: 0.9531 - val_accuracy: 0.5520\n",
            "Epoch 67/100\n",
            "71/71 [==============================] - 1s 21ms/step - loss: 0.4530 - accuracy: 0.8253 - val_loss: 0.8099 - val_accuracy: 0.6187\n",
            "Epoch 68/100\n",
            "71/71 [==============================] - 2s 22ms/step - loss: 0.4528 - accuracy: 0.8271 - val_loss: 0.7374 - val_accuracy: 0.6613\n",
            "Epoch 69/100\n",
            "71/71 [==============================] - 2s 21ms/step - loss: 0.4435 - accuracy: 0.8333 - val_loss: 0.8093 - val_accuracy: 0.6333\n",
            "Epoch 70/100\n",
            "71/71 [==============================] - 2s 21ms/step - loss: 0.4421 - accuracy: 0.8333 - val_loss: 0.8021 - val_accuracy: 0.6240\n",
            "Epoch 71/100\n",
            "71/71 [==============================] - 1s 21ms/step - loss: 0.4374 - accuracy: 0.8333 - val_loss: 0.7883 - val_accuracy: 0.6293\n",
            "Epoch 72/100\n",
            "71/71 [==============================] - 1s 21ms/step - loss: 0.4393 - accuracy: 0.8253 - val_loss: 0.7459 - val_accuracy: 0.6600\n",
            "Epoch 73/100\n",
            "71/71 [==============================] - 2s 21ms/step - loss: 0.4308 - accuracy: 0.8356 - val_loss: 0.7808 - val_accuracy: 0.6440\n",
            "Epoch 74/100\n",
            "71/71 [==============================] - 2s 22ms/step - loss: 0.4321 - accuracy: 0.8307 - val_loss: 0.9540 - val_accuracy: 0.5880\n",
            "Epoch 75/100\n",
            "71/71 [==============================] - 1s 21ms/step - loss: 0.4247 - accuracy: 0.8316 - val_loss: 0.7535 - val_accuracy: 0.6600\n",
            "Epoch 76/100\n",
            "71/71 [==============================] - 2s 22ms/step - loss: 0.4219 - accuracy: 0.8409 - val_loss: 0.7449 - val_accuracy: 0.6680\n",
            "Epoch 77/100\n",
            "71/71 [==============================] - 1s 21ms/step - loss: 0.4173 - accuracy: 0.8351 - val_loss: 0.7515 - val_accuracy: 0.6640\n",
            "Epoch 78/100\n",
            "71/71 [==============================] - 1s 21ms/step - loss: 0.4119 - accuracy: 0.8444 - val_loss: 0.7509 - val_accuracy: 0.6680\n",
            "Epoch 79/100\n",
            "71/71 [==============================] - 1s 21ms/step - loss: 0.4079 - accuracy: 0.8453 - val_loss: 0.8457 - val_accuracy: 0.6227\n",
            "Epoch 80/100\n",
            "71/71 [==============================] - 2s 21ms/step - loss: 0.4017 - accuracy: 0.8493 - val_loss: 0.7682 - val_accuracy: 0.6627\n",
            "Epoch 81/100\n",
            "71/71 [==============================] - 2s 22ms/step - loss: 0.4040 - accuracy: 0.8467 - val_loss: 0.7937 - val_accuracy: 0.6333\n",
            "Epoch 82/100\n",
            "71/71 [==============================] - 1s 21ms/step - loss: 0.3962 - accuracy: 0.8538 - val_loss: 0.7463 - val_accuracy: 0.6667\n",
            "Epoch 83/100\n",
            "71/71 [==============================] - 2s 22ms/step - loss: 0.3905 - accuracy: 0.8582 - val_loss: 0.9070 - val_accuracy: 0.6293\n",
            "Epoch 84/100\n",
            "71/71 [==============================] - 1s 21ms/step - loss: 0.3944 - accuracy: 0.8551 - val_loss: 0.7765 - val_accuracy: 0.6453\n",
            "Epoch 85/100\n",
            "71/71 [==============================] - 1s 21ms/step - loss: 0.3923 - accuracy: 0.8498 - val_loss: 0.7536 - val_accuracy: 0.6640\n",
            "Epoch 86/100\n",
            "71/71 [==============================] - 1s 21ms/step - loss: 0.3874 - accuracy: 0.8578 - val_loss: 0.7831 - val_accuracy: 0.6480\n",
            "Epoch 87/100\n",
            "71/71 [==============================] - 1s 21ms/step - loss: 0.3823 - accuracy: 0.8622 - val_loss: 0.7658 - val_accuracy: 0.6547\n",
            "Epoch 88/100\n",
            "71/71 [==============================] - 1s 21ms/step - loss: 0.3757 - accuracy: 0.8649 - val_loss: 0.8598 - val_accuracy: 0.6213\n",
            "Epoch 89/100\n",
            "71/71 [==============================] - 2s 21ms/step - loss: 0.3751 - accuracy: 0.8622 - val_loss: 0.8074 - val_accuracy: 0.6347\n",
            "Epoch 90/100\n",
            "71/71 [==============================] - 2s 21ms/step - loss: 0.3752 - accuracy: 0.8676 - val_loss: 0.7401 - val_accuracy: 0.6560\n",
            "Epoch 91/100\n",
            "71/71 [==============================] - 2s 21ms/step - loss: 0.3616 - accuracy: 0.8724 - val_loss: 0.7844 - val_accuracy: 0.6653\n",
            "Epoch 92/100\n",
            "71/71 [==============================] - 2s 21ms/step - loss: 0.3605 - accuracy: 0.8729 - val_loss: 0.7593 - val_accuracy: 0.6653\n",
            "Epoch 93/100\n",
            "71/71 [==============================] - 2s 21ms/step - loss: 0.3603 - accuracy: 0.8667 - val_loss: 0.8148 - val_accuracy: 0.6453\n",
            "Epoch 94/100\n",
            "71/71 [==============================] - 1s 21ms/step - loss: 0.3619 - accuracy: 0.8729 - val_loss: 0.7898 - val_accuracy: 0.6613\n",
            "Epoch 95/100\n",
            "71/71 [==============================] - 2s 21ms/step - loss: 0.3582 - accuracy: 0.8702 - val_loss: 0.8076 - val_accuracy: 0.6560\n",
            "Epoch 96/100\n",
            "71/71 [==============================] - 2s 21ms/step - loss: 0.3536 - accuracy: 0.8738 - val_loss: 0.7773 - val_accuracy: 0.6560\n",
            "Epoch 97/100\n",
            "71/71 [==============================] - 2s 21ms/step - loss: 0.3524 - accuracy: 0.8764 - val_loss: 0.9709 - val_accuracy: 0.6253\n",
            "Epoch 98/100\n",
            "71/71 [==============================] - 1s 21ms/step - loss: 0.3504 - accuracy: 0.8742 - val_loss: 0.8155 - val_accuracy: 0.6387\n",
            "Epoch 99/100\n",
            "71/71 [==============================] - 1s 21ms/step - loss: 0.3431 - accuracy: 0.8831 - val_loss: 0.8069 - val_accuracy: 0.6453\n",
            "Epoch 100/100\n",
            "71/71 [==============================] - 1s 21ms/step - loss: 0.3418 - accuracy: 0.8876 - val_loss: 0.7484 - val_accuracy: 0.6760\n",
            "              precision    recall  f1-score   support\n",
            "\n",
            "         cat       0.65      0.62      0.63       262\n",
            "         dog       0.56      0.59      0.57       249\n",
            "       panda       0.83      0.83      0.83       239\n",
            "\n",
            "    accuracy                           0.68       750\n",
            "   macro avg       0.68      0.68      0.68       750\n",
            "weighted avg       0.68      0.68      0.68       750\n",
            "\n"
          ],
          "name": "stdout"
        },
        {
          "output_type": "display_data",
          "data": {
            "image/png": "[encoded data removed]",
            "text/plain": [
              "<Figure size 432x288 with 1 Axes>"
            ]
          },
          "metadata": {
            "tags": []
          }
        }
      ]
    },
    {
      "cell_type": "markdown",
      "metadata": {
        "id": "eZa18aSCxteX"
      },
      "source": [
        "## Pre-trained Models (Perform Inference)"
      ]
    },
    {
      "cell_type": "code",
      "metadata": {
        "colab": {
          "base_uri": "https://localhost:8080/"
        },
        "id": "EkhibsJ597XH",
        "outputId": "6a2a2e74-58cf-4bf2-d1b4-d6d02109677a"
      },
      "source": [
        "! wget https://github.com/drhoffma/HarperIDEAShopCVCC/raw/main/lessons/images/wine.jpg"
      ],
      "execution_count": 2,
      "outputs": [
        {
          "output_type": "stream",
          "text": [
            "--2021-07-29 14:05:55--  https://github.com/drhoffma/HarperIDEAShopCVCC/raw/main/lessons/images/wine.jpg\n",
            "Resolving github.com (github.com)... 192.30.255.113\n",
            "Connecting to github.com (github.com)|192.30.255.113|:443... connected.\n",
            "HTTP request sent, awaiting response... 302 Found\n",
            "Location: https://raw.githubusercontent.com/drhoffma/HarperIDEAShopCVCC/main/lessons/images/wine.jpg [following]\n",
            "--2021-07-29 14:05:55--  https://raw.githubusercontent.com/drhoffma/HarperIDEAShopCVCC/main/lessons/images/wine.jpg\n",
            "Resolving raw.githubusercontent.com (raw.githubusercontent.com)... 185.199.108.133, 185.199.109.133, 185.199.110.133, ...\n",
            "Connecting to raw.githubusercontent.com (raw.githubusercontent.com)|185.199.108.133|:443... connected.\n",
            "HTTP request sent, awaiting response... 200 OK\n",
            "Length: 32846 (32K) [image/jpeg]\n",
            "Saving to: ‘wine.jpg.1’\n",
            "\n",
            "\rwine.jpg.1            0%[                    ]       0  --.-KB/s               \rwine.jpg.1          100%[===================>]  32.08K  --.-KB/s    in 0.001s  \n",
            "\n",
            "2021-07-29 14:05:55 (27.9 MB/s) - ‘wine.jpg.1’ saved [32846/32846]\n",
            "\n"
          ],
          "name": "stdout"
        }
      ]
    },
    {
      "cell_type": "code",
      "metadata": {
        "colab": {
          "base_uri": "https://localhost:8080/"
        },
        "id": "3Kjl5VoTxwxV",
        "outputId": "36e36b9a-13b8-47ac-f5db-f9b62958a713"
      },
      "source": [
        "# imports\n",
        "from keras.preprocessing.image import img_to_array\n",
        "from keras.applications.imagenet_utils import decode_predictions\n",
        "from keras.applications.imagenet_utils import preprocess_input\n",
        "from keras.applications.vgg16 import VGG16\n",
        "from keras.preprocessing.image import load_img\n",
        "import numpy as np\n",
        "import cv2\n",
        "\n",
        "# load an image\n",
        "image = load_img(\"wine.jpg\", target_size=(224, 224))\n",
        "\n",
        "# load the image as an array\n",
        "image = img_to_array(image)\n",
        "\n",
        "# create a batch\n",
        "image = np.expand_dims(image, axis=0)\n",
        "\n",
        "# preprocess\n",
        "image = preprocess_input(image)\n",
        "\n",
        "# load a an ImageNet model\n",
        "model = VGG16(weights=\"imagenet\")\n",
        "\n",
        "# perform inference\n",
        "predictions = model.predict(image)\n",
        "p = decode_predictions(predictions)\n",
        "\n",
        "# print the results\n",
        "#print(p)\n",
        "# [ [(), (), ()] ]\n",
        "\n",
        "for i, (filename, class_label, probability) in enumerate(p[0]):\n",
        "  print(\"{}. {}: {:.2f}%\".format(i+1, class_label, probability * 100))\n",
        "\n",
        "# display results\n"
      ],
      "execution_count": 5,
      "outputs": [
        {
          "output_type": "stream",
          "text": [
            "1. red_wine: 31.85%\n",
            "2. hook: 5.38%\n",
            "3. pole: 5.21%\n",
            "4. padlock: 4.92%\n",
            "5. binoculars: 4.69%\n"
          ],
          "name": "stdout"
        }
      ]
    }
  ]
}