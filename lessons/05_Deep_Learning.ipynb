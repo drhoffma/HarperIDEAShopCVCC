{
  "nbformat": 4,
  "nbformat_minor": 0,
  "metadata": {
    "colab": {
      "name": "05_Deep_Learning.ipynb",
      "provenance": [],
      "collapsed_sections": [],
      "authorship_tag": "ABX9TyPLKO8wn8I77z3cXCeB8/XH",
      "include_colab_link": true
    },
    "kernelspec": {
      "name": "python3",
      "display_name": "Python 3"
    },
    "language_info": {
      "name": "python"
    }
  },
  "cells": [
    {
      "cell_type": "markdown",
      "metadata": {
        "id": "view-in-github",
        "colab_type": "text"
      },
      "source": [
        "<a href=\"https://colab.research.google.com/github/drhoffma/HarperIDEAShopCVCC/blob/main/lessons/05_Deep_Learning.ipynb\" target=\"_parent\"><img src=\"https://colab.research.google.com/assets/colab-badge.svg\" alt=\"Open In Colab\"/></a>"
      ]
    },
    {
      "cell_type": "markdown",
      "metadata": {
        "id": "ue3X_iJExx4f"
      },
      "source": [
        "![](https://github.com/drhoffma/HarperIDEAShopCVCC/blob/main/colab_template/header_image.png?raw=true)\n",
        "\n",
        "# Welcome to **Harper College's IDEAShop** curriculum!\n",
        "\n",
        "**Course Title:** *Computer Vision, Cameras, & Code*\n",
        "\n",
        "**Quick Links:** [Homepage](https://tinyurl.com/harpercv-home) | [Syllabus](https://tinyurl.com/harpercv-syllabus) | [Blackboard](#) | [Instructor](https://davidrhoffman.net)\n",
        "\n",
        "***Terms of use:*** *This course is public domain. If you'd like to use content from this course, please request consent by [contacting Harper College MakerSpace](https://www.harpercollege.edu/maker/contact/index.php).*\n",
        "\n",
        "---"
      ]
    },
    {
      "cell_type": "markdown",
      "metadata": {
        "id": "E-DFyt0UxgFE"
      },
      "source": [
        "# Deep Learning\n",
        "\n",
        "* Image Classification - is the entire image representative of a \"dog\"?\n",
        "* Object Detection - where is the \"dog\" in the image?\n",
        "* Segmentation - highlight all the pixels where the \"dog\" is in the image\n",
        "\n",
        "(replace \"dog\" with your favorite class of data)"
      ]
    },
    {
      "cell_type": "markdown",
      "metadata": {
        "id": "92GugWWmxnoN"
      },
      "source": [
        "## Training"
      ]
    },
    {
      "cell_type": "markdown",
      "metadata": {
        "id": "d6-D940crgxK"
      },
      "source": [
        "### ShallowNet CNN from PyImageSearch's Deep Learning Book"
      ]
    },
    {
      "cell_type": "code",
      "metadata": {
        "colab": {
          "base_uri": "https://localhost:8080/"
        },
        "id": "L5qk6fWtrdsi",
        "outputId": "834a8a17-b9c1-4ea0-affe-2c22a59e042e"
      },
      "source": [
        "# CNN code\n",
        "\n",
        "# imports\n",
        "from tensorflow.keras.models import Sequential\n",
        "from tensorflow.keras.layers import Conv2D\n",
        "from tensorflow.keras.layers import Activation\n",
        "from tensorflow.keras.layers import Flatten\n",
        "from tensorflow.keras.layers import Dense\n",
        "from tensorflow.keras import backend as K\n",
        "\n",
        "# CNN class\n",
        "class ShallowNet:\n",
        "  @staticmethod\n",
        "  def build(width, height, depth, classes):\n",
        "    # initialize the model\n",
        "    model = Sequential()\n",
        "\n",
        "    # initialize the input shape\n",
        "    inputShape = (height, width, depth)\n",
        "\n",
        "    # handle \"channels first\"\n",
        "    if K.image_data_format() == \"channels_first\":\n",
        "      inputShape = (depth, height, width)\n",
        "\n",
        "    # add layers to our model \n",
        "    model.add(Conv2D(32, (3, 3), padding=\"same\", input_shape=inputShape))\n",
        "    model.add(Activation(\"relu\"))\n",
        "\n",
        "    # softmax classifier\n",
        "    model.add(Flatten())\n",
        "    model.add(Dense(classes))\n",
        "    model.add(Activation(\"softmax\")) # produce the probabilities which sum to 1\n",
        "\n",
        "    # return the CNN structure\n",
        "    return model\n",
        "\n",
        "\n",
        "s = ShallowNet()\n",
        "model = s.build(244, 244, 3, 3)\n",
        "print(model.summary())\n",
        "\n",
        "print(1000 * 30 * 5716355)"
      ],
      "execution_count": 11,
      "outputs": [
        {
          "output_type": "stream",
          "text": [
            "Model: \"sequential_1\"\n",
            "_________________________________________________________________\n",
            "Layer (type)                 Output Shape              Param #   \n",
            "=================================================================\n",
            "conv2d_1 (Conv2D)            (None, 244, 244, 32)      896       \n",
            "_________________________________________________________________\n",
            "activation_2 (Activation)    (None, 244, 244, 32)      0         \n",
            "_________________________________________________________________\n",
            "flatten_1 (Flatten)          (None, 1905152)           0         \n",
            "_________________________________________________________________\n",
            "dense_1 (Dense)              (None, 3)                 5715459   \n",
            "_________________________________________________________________\n",
            "activation_3 (Activation)    (None, 3)                 0         \n",
            "=================================================================\n",
            "Total params: 5,716,355\n",
            "Trainable params: 5,716,355\n",
            "Non-trainable params: 0\n",
            "_________________________________________________________________\n",
            "None\n",
            "171490650000\n"
          ],
          "name": "stdout"
        }
      ]
    },
    {
      "cell_type": "markdown",
      "metadata": {
        "id": "Mzydx-o5rs_4"
      },
      "source": [
        "### Training Code"
      ]
    },
    {
      "cell_type": "code",
      "metadata": {
        "id": "GJY2Ltjn6Eix"
      },
      "source": [
        "# imports\n",
        "import cv2\n",
        "# import keras, tensorflow, or pytorch\n",
        "\n",
        "# load a dataset\n",
        "\n",
        "# sanitize the dataset\n",
        "\n",
        "# build a model\n",
        "\n",
        "# train the model on the data\n",
        "\n",
        "# evaluate the model\n",
        "\n",
        "# if it meets expectations, serialize (save) the model to disk"
      ],
      "execution_count": null,
      "outputs": []
    },
    {
      "cell_type": "markdown",
      "metadata": {
        "id": "eZa18aSCxteX"
      },
      "source": [
        "## Pre-trained Models (Perform Inference)"
      ]
    },
    {
      "cell_type": "code",
      "metadata": {
        "colab": {
          "base_uri": "https://localhost:8080/"
        },
        "id": "EkhibsJ597XH",
        "outputId": "6a2a2e74-58cf-4bf2-d1b4-d6d02109677a"
      },
      "source": [
        "! wget https://github.com/drhoffma/HarperIDEAShopCVCC/raw/main/lessons/images/wine.jpg"
      ],
      "execution_count": 2,
      "outputs": [
        {
          "output_type": "stream",
          "text": [
            "--2021-07-29 14:05:55--  https://github.com/drhoffma/HarperIDEAShopCVCC/raw/main/lessons/images/wine.jpg\n",
            "Resolving github.com (github.com)... 192.30.255.113\n",
            "Connecting to github.com (github.com)|192.30.255.113|:443... connected.\n",
            "HTTP request sent, awaiting response... 302 Found\n",
            "Location: https://raw.githubusercontent.com/drhoffma/HarperIDEAShopCVCC/main/lessons/images/wine.jpg [following]\n",
            "--2021-07-29 14:05:55--  https://raw.githubusercontent.com/drhoffma/HarperIDEAShopCVCC/main/lessons/images/wine.jpg\n",
            "Resolving raw.githubusercontent.com (raw.githubusercontent.com)... 185.199.108.133, 185.199.109.133, 185.199.110.133, ...\n",
            "Connecting to raw.githubusercontent.com (raw.githubusercontent.com)|185.199.108.133|:443... connected.\n",
            "HTTP request sent, awaiting response... 200 OK\n",
            "Length: 32846 (32K) [image/jpeg]\n",
            "Saving to: ‘wine.jpg.1’\n",
            "\n",
            "\rwine.jpg.1            0%[                    ]       0  --.-KB/s               \rwine.jpg.1          100%[===================>]  32.08K  --.-KB/s    in 0.001s  \n",
            "\n",
            "2021-07-29 14:05:55 (27.9 MB/s) - ‘wine.jpg.1’ saved [32846/32846]\n",
            "\n"
          ],
          "name": "stdout"
        }
      ]
    },
    {
      "cell_type": "code",
      "metadata": {
        "colab": {
          "base_uri": "https://localhost:8080/"
        },
        "id": "3Kjl5VoTxwxV",
        "outputId": "36e36b9a-13b8-47ac-f5db-f9b62958a713"
      },
      "source": [
        "# imports\n",
        "from keras.preprocessing.image import img_to_array\n",
        "from keras.applications.imagenet_utils import decode_predictions\n",
        "from keras.applications.imagenet_utils import preprocess_input\n",
        "from keras.applications.vgg16 import VGG16\n",
        "from keras.preprocessing.image import load_img\n",
        "import numpy as np\n",
        "import cv2\n",
        "\n",
        "# load an image\n",
        "image = load_img(\"wine.jpg\", target_size=(224, 224))\n",
        "\n",
        "# load the image as an array\n",
        "image = img_to_array(image)\n",
        "\n",
        "# create a batch\n",
        "image = np.expand_dims(image, axis=0)\n",
        "\n",
        "# preprocess\n",
        "image = preprocess_input(image)\n",
        "\n",
        "# load a an ImageNet model\n",
        "model = VGG16(weights=\"imagenet\")\n",
        "\n",
        "# perform inference\n",
        "predictions = model.predict(image)\n",
        "p = decode_predictions(predictions)\n",
        "\n",
        "# print the results\n",
        "#print(p)\n",
        "# [ [(), (), ()] ]\n",
        "\n",
        "for i, (filename, class_label, probability) in enumerate(p[0]):\n",
        "  print(\"{}. {}: {:.2f}%\".format(i+1, class_label, probability * 100))\n",
        "\n",
        "# display results\n"
      ],
      "execution_count": 5,
      "outputs": [
        {
          "output_type": "stream",
          "text": [
            "1. red_wine: 31.85%\n",
            "2. hook: 5.38%\n",
            "3. pole: 5.21%\n",
            "4. padlock: 4.92%\n",
            "5. binoculars: 4.69%\n"
          ],
          "name": "stdout"
        }
      ]
    }
  ]
}