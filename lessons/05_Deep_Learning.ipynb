{
  "nbformat": 4,
  "nbformat_minor": 0,
  "metadata": {
    "colab": {
      "name": "05_Deep_Learning.ipynb",
      "provenance": [],
      "collapsed_sections": [],
      "authorship_tag": "ABX9TyPTcjbyqhU6wasM/SYsfeOb",
      "include_colab_link": true
    },
    "kernelspec": {
      "name": "python3",
      "display_name": "Python 3"
    },
    "language_info": {
      "name": "python"
    }
  },
  "cells": [
    {
      "cell_type": "markdown",
      "metadata": {
        "id": "view-in-github",
        "colab_type": "text"
      },
      "source": [
        "<a href=\"https://colab.research.google.com/github/drhoffma/HarperIDEAShopCVCC/blob/main/lessons/05_Deep_Learning.ipynb\" target=\"_parent\"><img src=\"https://colab.research.google.com/assets/colab-badge.svg\" alt=\"Open In Colab\"/></a>"
      ]
    },
    {
      "cell_type": "markdown",
      "metadata": {
        "id": "ue3X_iJExx4f"
      },
      "source": [
        "![](https://github.com/drhoffma/HarperIDEAShopCVCC/blob/main/colab_template/header_image.png?raw=true)\n",
        "\n",
        "# Welcome to **Harper College's IDEAShop** curriculum!\n",
        "\n",
        "**Course Title:** *Computer Vision, Cameras, & Code*\n",
        "\n",
        "**Quick Links:** [Homepage](https://tinyurl.com/harpercv-home) | [Syllabus](https://tinyurl.com/harpercv-syllabus) | [Blackboard](#) | [Instructor](https://davidrhoffman.net)\n",
        "\n",
        "***Terms of use:*** *This course is public domain. If you'd like to use content from this course, please request consent by [contacting Harper College MakerSpace](https://www.harpercollege.edu/maker/contact/index.php).*\n",
        "\n",
        "---"
      ]
    },
    {
      "cell_type": "markdown",
      "metadata": {
        "id": "E-DFyt0UxgFE"
      },
      "source": [
        "# Deep Learning\n",
        "\n",
        "* Image Classification - is the entire image representative of a \"dog\"?\n",
        "* Object Detection - where is the \"dog\" in the image?\n",
        "* Segmentation - highlight all the pixels where the \"dog\" is in the image\n",
        "\n",
        "(replace \"dog\" with your favorite class of data)"
      ]
    },
    {
      "cell_type": "markdown",
      "metadata": {
        "id": "92GugWWmxnoN"
      },
      "source": [
        "## Training"
      ]
    },
    {
      "cell_type": "markdown",
      "metadata": {
        "id": "d6-D940crgxK"
      },
      "source": [
        "### ShallowNet CNN from PyImageSearch's Deep Learning Book"
      ]
    },
    {
      "cell_type": "code",
      "metadata": {
        "colab": {
          "base_uri": "https://localhost:8080/"
        },
        "id": "L5qk6fWtrdsi",
        "outputId": "834a8a17-b9c1-4ea0-affe-2c22a59e042e"
      },
      "source": [
        "# CNN code\n",
        "\n",
        "# imports\n",
        "from tensorflow.keras.models import Sequential\n",
        "from tensorflow.keras.layers import Conv2D\n",
        "from tensorflow.keras.layers import Activation\n",
        "from tensorflow.keras.layers import Flatten\n",
        "from tensorflow.keras.layers import Dense\n",
        "from tensorflow.keras import backend as K\n",
        "\n",
        "# CNN class\n",
        "class ShallowNet:\n",
        "  @staticmethod\n",
        "  def build(width, height, depth, classes):\n",
        "    # initialize the model\n",
        "    model = Sequential()\n",
        "\n",
        "    # initialize the input shape\n",
        "    inputShape = (height, width, depth)\n",
        "\n",
        "    # handle \"channels first\"\n",
        "    if K.image_data_format() == \"channels_first\":\n",
        "      inputShape = (depth, height, width)\n",
        "\n",
        "    # add layers to our model \n",
        "    model.add(Conv2D(32, (3, 3), padding=\"same\", input_shape=inputShape))\n",
        "    model.add(Activation(\"relu\"))\n",
        "\n",
        "    # softmax classifier\n",
        "    model.add(Flatten())\n",
        "    model.add(Dense(classes))\n",
        "    model.add(Activation(\"softmax\")) # produce the probabilities which sum to 1\n",
        "\n",
        "    # return the CNN structure\n",
        "    return model\n",
        "\n",
        "\n",
        "s = ShallowNet()\n",
        "model = s.build(244, 244, 3, 3)\n",
        "print(model.summary())\n",
        "\n",
        "print(1000 * 30 * 5716355)"
      ],
      "execution_count": 11,
      "outputs": [
        {
          "output_type": "stream",
          "text": [
            "Model: \"sequential_1\"\n",
            "_________________________________________________________________\n",
            "Layer (type)                 Output Shape              Param #   \n",
            "=================================================================\n",
            "conv2d_1 (Conv2D)            (None, 244, 244, 32)      896       \n",
            "_________________________________________________________________\n",
            "activation_2 (Activation)    (None, 244, 244, 32)      0         \n",
            "_________________________________________________________________\n",
            "flatten_1 (Flatten)          (None, 1905152)           0         \n",
            "_________________________________________________________________\n",
            "dense_1 (Dense)              (None, 3)                 5715459   \n",
            "_________________________________________________________________\n",
            "activation_3 (Activation)    (None, 3)                 0         \n",
            "=================================================================\n",
            "Total params: 5,716,355\n",
            "Trainable params: 5,716,355\n",
            "Non-trainable params: 0\n",
            "_________________________________________________________________\n",
            "None\n",
            "171490650000\n"
          ],
          "name": "stdout"
        }
      ]
    },
    {
      "cell_type": "markdown",
      "metadata": {
        "id": "Zxm3yT-HBEHt"
      },
      "source": [
        "### PyImageSearch Preprocessing modules from their Deep Learning Book"
      ]
    },
    {
      "cell_type": "markdown",
      "metadata": {
        "id": "PT2ofML1Bf1U"
      },
      "source": [
        "#### Image to Array Preprocessor"
      ]
    },
    {
      "cell_type": "code",
      "metadata": {
        "id": "6GNPRVQCBLv1"
      },
      "source": [
        "# import the necessary packages\n",
        "from tensorflow.keras.preprocessing.image import img_to_array\n",
        "\n",
        "class ImageToArrayPreprocessor:\n",
        "\tdef __init__(self, dataFormat=None):\n",
        "\t\t# store the image data format\n",
        "\t\tself.dataFormat = dataFormat\n",
        "\n",
        "\tdef preprocess(self, image):\n",
        "\t\t# apply the Keras utility function that correctly rearranges\n",
        "\t\t# the dimensions of the image\n",
        "\t\treturn img_to_array(image, data_format=self.dataFormat)"
      ],
      "execution_count": 12,
      "outputs": []
    },
    {
      "cell_type": "markdown",
      "metadata": {
        "id": "SipCG7kbBjSo"
      },
      "source": [
        "#### Simple Preprocessor"
      ]
    },
    {
      "cell_type": "code",
      "metadata": {
        "id": "Y3Nl-rBmBd28"
      },
      "source": [
        "# import the necessary packages\n",
        "import cv2\n",
        "\n",
        "class SimplePreprocessor:\n",
        "\tdef __init__(self, width, height, inter=cv2.INTER_AREA):\n",
        "\t\t# store the target image width, height, and interpolation\n",
        "\t\t# method used when resizing\n",
        "\t\tself.width = width\n",
        "\t\tself.height = height\n",
        "\t\tself.inter = inter\n",
        "\n",
        "\tdef preprocess(self, image):\n",
        "\t\t# resize the image to a fixed size, ignoring the aspect\n",
        "\t\t# ratio\n",
        "\t\treturn cv2.resize(image, (self.width, self.height),\n",
        "\t\t\tinterpolation=self.inter)"
      ],
      "execution_count": 14,
      "outputs": []
    },
    {
      "cell_type": "markdown",
      "metadata": {
        "id": "zNsAVRVWETAc"
      },
      "source": [
        "#### Simple Dataset Loader"
      ]
    },
    {
      "cell_type": "code",
      "metadata": {
        "id": "ffeWXT-cEVp8"
      },
      "source": [
        "# import the necessary packages\n",
        "import numpy as np\n",
        "import cv2\n",
        "import os\n",
        "\n",
        "class SimpleDatasetLoader:\n",
        "\tdef __init__(self, preprocessors=None):\n",
        "\t\t# store the image preprocessor\n",
        "\t\tself.preprocessors = preprocessors\n",
        "\n",
        "\t\t# if the preprocessors are None, initialize them as an\n",
        "\t\t# empty list\n",
        "\t\tif self.preprocessors is None:\n",
        "\t\t\tself.preprocessors = []\n",
        "\n",
        "\tdef load(self, imagePaths, verbose=-1):\n",
        "\t\t# initialize the list of features and labels\n",
        "\t\tdata = []\n",
        "\t\tlabels = []\n",
        "\n",
        "\t\t# loop over the input images\n",
        "\t\tfor (i, imagePath) in enumerate(imagePaths):\n",
        "\t\t\t# load the image and extract the class label assuming\n",
        "\t\t\t# that our path has the following format:\n",
        "\t\t\t# /path/to/dataset/{class}/{image}.jpg\n",
        "\t\t\timage = cv2.imread(imagePath)\n",
        "\t\t\tlabel = imagePath.split(os.path.sep)[-2]\n",
        "\n",
        "\t\t\t# check to see if our preprocessors are not None\n",
        "\t\t\tif self.preprocessors is not None:\n",
        "\t\t\t\t# loop over the preprocessors and apply each to\n",
        "\t\t\t\t# the image\n",
        "\t\t\t\tfor p in self.preprocessors:\n",
        "\t\t\t\t\timage = p.preprocess(image)\n",
        "\n",
        "\t\t\t# treat our processed image as a \"feature vector\"\n",
        "\t\t\t# by updating the data list followed by the labels\n",
        "\t\t\tdata.append(image)\n",
        "\t\t\tlabels.append(label)\n",
        "\n",
        "\t\t\t# show an update every `verbose` images\n",
        "\t\t\tif verbose > 0 and i > 0 and (i + 1) % verbose == 0:\n",
        "\t\t\t\tprint(\"[INFO] processed {}/{}\".format(i + 1,\n",
        "\t\t\t\t\tlen(imagePaths)))\n",
        "\n",
        "\t\t# return a tuple of the data and labels\n",
        "\t\treturn (np.array(data), np.array(labels))"
      ],
      "execution_count": 15,
      "outputs": []
    },
    {
      "cell_type": "markdown",
      "metadata": {
        "id": "Mzydx-o5rs_4"
      },
      "source": [
        "### Training Code"
      ]
    },
    {
      "cell_type": "code",
      "metadata": {
        "id": "GJY2Ltjn6Eix"
      },
      "source": [
        "# imports\n",
        "from sklearn.preprocessing import LabelBinarizer\n",
        "from sklearn.model_selection import train_test_split\n",
        "from sklearn.metrics import classification_report\n",
        "from pyimagesearch.nn.conv import ShallowNet\n",
        "from tensorflow.keras.optimizers import SGD\n",
        "from imutils import paths\n",
        "import matplotlib.pyplot as plt\n",
        "import numpy as np\n",
        "\n",
        "# load a dataset\n",
        "# TODO unzip\n",
        "# TODO load image paths into memory\n",
        "\n",
        "# initialize our preprocessors\n",
        "iap = ImageToArrayPreprocessor()\n",
        "sp = SimplePreprocessor(32, 32)\n",
        "\n",
        "##### load data\n",
        "sdl = SimpleDatasetLoader(preprocessors=[iap, sp])\n",
        "(data, labels) sdl.load(imagePaths)\n",
        "\n",
        "# scale the pixel intensities from the range [0, 255] to [0, 1]\n",
        "data = data.astype(\"float\") / 255.0\n",
        "\n",
        "# separate the data into 75% training & 25% testing\n",
        "(trainX, testX, trainY, testY) = train_test_split(data, labels, test_size=0.25, random_state=42)\n",
        "\n",
        "# convert labels from integers to \"one-hot encoded\" vectors\n",
        "# three class [cat, dog, panda]\n",
        "# cat would be represented as [1, 0, 0] vector\n",
        "# panda would be represented as [0, 0, 1] vector\n",
        "trainY = LabelBinarizer().fit_transform(trainY)\n",
        "testY = LabelBinarizer().fit_transform(testY)\n",
        "\n",
        "\n",
        "\n",
        "# load the model\n",
        "\n",
        "# train the model on the data\n",
        "\n",
        "# evaluate the model\n",
        "\n",
        "# if it meets expectations, serialize (save) the model to disk"
      ],
      "execution_count": null,
      "outputs": []
    },
    {
      "cell_type": "markdown",
      "metadata": {
        "id": "eZa18aSCxteX"
      },
      "source": [
        "## Pre-trained Models (Perform Inference)"
      ]
    },
    {
      "cell_type": "code",
      "metadata": {
        "colab": {
          "base_uri": "https://localhost:8080/"
        },
        "id": "EkhibsJ597XH",
        "outputId": "6a2a2e74-58cf-4bf2-d1b4-d6d02109677a"
      },
      "source": [
        "! wget https://github.com/drhoffma/HarperIDEAShopCVCC/raw/main/lessons/images/wine.jpg"
      ],
      "execution_count": 2,
      "outputs": [
        {
          "output_type": "stream",
          "text": [
            "--2021-07-29 14:05:55--  https://github.com/drhoffma/HarperIDEAShopCVCC/raw/main/lessons/images/wine.jpg\n",
            "Resolving github.com (github.com)... 192.30.255.113\n",
            "Connecting to github.com (github.com)|192.30.255.113|:443... connected.\n",
            "HTTP request sent, awaiting response... 302 Found\n",
            "Location: https://raw.githubusercontent.com/drhoffma/HarperIDEAShopCVCC/main/lessons/images/wine.jpg [following]\n",
            "--2021-07-29 14:05:55--  https://raw.githubusercontent.com/drhoffma/HarperIDEAShopCVCC/main/lessons/images/wine.jpg\n",
            "Resolving raw.githubusercontent.com (raw.githubusercontent.com)... 185.199.108.133, 185.199.109.133, 185.199.110.133, ...\n",
            "Connecting to raw.githubusercontent.com (raw.githubusercontent.com)|185.199.108.133|:443... connected.\n",
            "HTTP request sent, awaiting response... 200 OK\n",
            "Length: 32846 (32K) [image/jpeg]\n",
            "Saving to: ‘wine.jpg.1’\n",
            "\n",
            "\rwine.jpg.1            0%[                    ]       0  --.-KB/s               \rwine.jpg.1          100%[===================>]  32.08K  --.-KB/s    in 0.001s  \n",
            "\n",
            "2021-07-29 14:05:55 (27.9 MB/s) - ‘wine.jpg.1’ saved [32846/32846]\n",
            "\n"
          ],
          "name": "stdout"
        }
      ]
    },
    {
      "cell_type": "code",
      "metadata": {
        "colab": {
          "base_uri": "https://localhost:8080/"
        },
        "id": "3Kjl5VoTxwxV",
        "outputId": "36e36b9a-13b8-47ac-f5db-f9b62958a713"
      },
      "source": [
        "# imports\n",
        "from keras.preprocessing.image import img_to_array\n",
        "from keras.applications.imagenet_utils import decode_predictions\n",
        "from keras.applications.imagenet_utils import preprocess_input\n",
        "from keras.applications.vgg16 import VGG16\n",
        "from keras.preprocessing.image import load_img\n",
        "import numpy as np\n",
        "import cv2\n",
        "\n",
        "# load an image\n",
        "image = load_img(\"wine.jpg\", target_size=(224, 224))\n",
        "\n",
        "# load the image as an array\n",
        "image = img_to_array(image)\n",
        "\n",
        "# create a batch\n",
        "image = np.expand_dims(image, axis=0)\n",
        "\n",
        "# preprocess\n",
        "image = preprocess_input(image)\n",
        "\n",
        "# load a an ImageNet model\n",
        "model = VGG16(weights=\"imagenet\")\n",
        "\n",
        "# perform inference\n",
        "predictions = model.predict(image)\n",
        "p = decode_predictions(predictions)\n",
        "\n",
        "# print the results\n",
        "#print(p)\n",
        "# [ [(), (), ()] ]\n",
        "\n",
        "for i, (filename, class_label, probability) in enumerate(p[0]):\n",
        "  print(\"{}. {}: {:.2f}%\".format(i+1, class_label, probability * 100))\n",
        "\n",
        "# display results\n"
      ],
      "execution_count": 5,
      "outputs": [
        {
          "output_type": "stream",
          "text": [
            "1. red_wine: 31.85%\n",
            "2. hook: 5.38%\n",
            "3. pole: 5.21%\n",
            "4. padlock: 4.92%\n",
            "5. binoculars: 4.69%\n"
          ],
          "name": "stdout"
        }
      ]
    }
  ]
}