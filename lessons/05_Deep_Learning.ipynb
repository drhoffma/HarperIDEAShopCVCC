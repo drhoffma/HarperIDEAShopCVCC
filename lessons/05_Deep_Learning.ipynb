{
  "nbformat": 4,
  "nbformat_minor": 0,
  "metadata": {
    "colab": {
      "name": "05_Deep_Learning.ipynb",
      "provenance": [],
      "authorship_tag": "ABX9TyPKUzbnC+EyXc+NfYn/Azqk",
      "include_colab_link": true
    },
    "kernelspec": {
      "name": "python3",
      "display_name": "Python 3"
    },
    "language_info": {
      "name": "python"
    }
  },
  "cells": [
    {
      "cell_type": "markdown",
      "metadata": {
        "id": "view-in-github",
        "colab_type": "text"
      },
      "source": [
        "<a href=\"https://colab.research.google.com/github/drhoffma/HarperIDEAShopCVCC/blob/main/lessons/05_Deep_Learning.ipynb\" target=\"_parent\"><img src=\"https://colab.research.google.com/assets/colab-badge.svg\" alt=\"Open In Colab\"/></a>"
      ]
    },
    {
      "cell_type": "markdown",
      "metadata": {
        "id": "ue3X_iJExx4f"
      },
      "source": [
        "![](https://github.com/drhoffma/HarperIDEAShopCVCC/blob/main/colab_template/header_image.png?raw=true)\n",
        "\n",
        "# Welcome to **Harper College's IDEAShop** curriculum!\n",
        "\n",
        "**Course Title:** *Computer Vision, Cameras, & Code*\n",
        "\n",
        "**Quick Links:** [Homepage](https://tinyurl.com/harpercv-home) | [Syllabus](https://tinyurl.com/harpercv-syllabus) | [Blackboard](#) | [Instructor](https://davidrhoffman.net)\n",
        "\n",
        "***Terms of use:*** *This course is public domain. If you'd like to use content from this course, please request consent by [contacting Harper College MakerSpace](https://www.harpercollege.edu/maker/contact/index.php).*\n",
        "\n",
        "---"
      ]
    },
    {
      "cell_type": "markdown",
      "metadata": {
        "id": "E-DFyt0UxgFE"
      },
      "source": [
        "# Deep Learning\n",
        "\n",
        "* Image Classification - is the entire image representative of a \"dog\"?\n",
        "* Object Detection - where is the \"dog\" in the image?\n",
        "* Segmentation - highlight all the pixels where the \"dog\" is in the image\n",
        "\n",
        "(replace \"dog\" with your favorite class of data)"
      ]
    },
    {
      "cell_type": "markdown",
      "metadata": {
        "id": "92GugWWmxnoN"
      },
      "source": [
        "## Training"
      ]
    },
    {
      "cell_type": "code",
      "metadata": {
        "id": "GJY2Ltjn6Eix"
      },
      "source": [
        "# imports\n",
        "import cv2\n",
        "# import keras, tensorflow, or pytorch\n",
        "\n",
        "# load a dataset\n",
        "\n",
        "# sanitize the dataset\n",
        "\n",
        "# build a model\n",
        "\n",
        "# train the model on the data\n",
        "\n",
        "# evaluate the model\n",
        "\n",
        "# if it meets expectations, serialize (save) the model to disk"
      ],
      "execution_count": null,
      "outputs": []
    },
    {
      "cell_type": "markdown",
      "metadata": {
        "id": "eZa18aSCxteX"
      },
      "source": [
        "## Pre-trained Models (Perform Inference)"
      ]
    },
    {
      "cell_type": "code",
      "metadata": {
        "colab": {
          "base_uri": "https://localhost:8080/"
        },
        "id": "EkhibsJ597XH",
        "outputId": "90830be2-1231-4c3d-df3b-704959722872"
      },
      "source": [
        "! wget https://github.com/drhoffma/HarperIDEAShopCVCC/raw/main/lessons/images/wine.jpg"
      ],
      "execution_count": 1,
      "outputs": [
        {
          "output_type": "stream",
          "text": [
            "--2021-07-28 16:34:42--  https://github.com/drhoffma/HarperIDEAShopCVCC/raw/main/lessons/images/wine.jpg\n",
            "Resolving github.com (github.com)... 192.30.255.112\n",
            "Connecting to github.com (github.com)|192.30.255.112|:443... connected.\n",
            "HTTP request sent, awaiting response... 302 Found\n",
            "Location: https://raw.githubusercontent.com/drhoffma/HarperIDEAShopCVCC/main/lessons/images/wine.jpg [following]\n",
            "--2021-07-28 16:34:42--  https://raw.githubusercontent.com/drhoffma/HarperIDEAShopCVCC/main/lessons/images/wine.jpg\n",
            "Resolving raw.githubusercontent.com (raw.githubusercontent.com)... 185.199.111.133, 185.199.108.133, 185.199.110.133, ...\n",
            "Connecting to raw.githubusercontent.com (raw.githubusercontent.com)|185.199.111.133|:443... connected.\n",
            "HTTP request sent, awaiting response... 200 OK\n",
            "Length: 32846 (32K) [image/jpeg]\n",
            "Saving to: ‘wine.jpg.1’\n",
            "\n",
            "wine.jpg.1          100%[===================>]  32.08K  --.-KB/s    in 0.001s  \n",
            "\n",
            "2021-07-28 16:34:43 (32.6 MB/s) - ‘wine.jpg.1’ saved [32846/32846]\n",
            "\n"
          ],
          "name": "stdout"
        }
      ]
    },
    {
      "cell_type": "code",
      "metadata": {
        "id": "3Kjl5VoTxwxV"
      },
      "source": [
        "# imports\n",
        "import cv2\n",
        "import numpy as np\n",
        "from keras.preprocessing import image as image_utils\n",
        "from keras.applications.imagenet_utils import decode_predictions\n",
        "from keras.applications.imagenet_utils import preprocess_input\n",
        "from keras.applications import VGG16\n",
        "\n",
        "# load an image\n",
        "\n",
        "\n",
        "# load a an ImageNet model\n",
        "\n",
        "# perform inference\n",
        "\n",
        "# display results"
      ],
      "execution_count": null,
      "outputs": []
    }
  ]
}