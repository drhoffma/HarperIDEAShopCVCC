{
  "nbformat": 4,
  "nbformat_minor": 0,
  "metadata": {
    "colab": {
      "name": "06_DL_Object_Detection.ipynb",
      "provenance": [],
      "authorship_tag": "ABX9TyPpzONPJ68WG18gMGaKQLrF",
      "include_colab_link": true
    },
    "kernelspec": {
      "name": "python3",
      "display_name": "Python 3"
    },
    "language_info": {
      "name": "python"
    }
  },
  "cells": [
    {
      "cell_type": "markdown",
      "metadata": {
        "id": "view-in-github",
        "colab_type": "text"
      },
      "source": [
        "<a href=\"https://colab.research.google.com/github/drhoffma/HarperIDEAShopCVCC/blob/main/lessons/06_DL_Object_Detection.ipynb\" target=\"_parent\"><img src=\"https://colab.research.google.com/assets/colab-badge.svg\" alt=\"Open In Colab\"/></a>"
      ]
    },
    {
      "cell_type": "markdown",
      "metadata": {
        "id": "FLdLCUrk9Ok3"
      },
      "source": [
        "![](https://github.com/drhoffma/HarperIDEAShopCVCC/blob/main/colab_template/header_image.png?raw=true)\n",
        "\n",
        "# Welcome to **Harper College's IDEAShop** curriculum!\n",
        "\n",
        "**Course Title:** *Computer Vision, Cameras, & Code*\n",
        "\n",
        "**Quick Links:** [Homepage](https://tinyurl.com/harpercv-home) | [Syllabus](https://tinyurl.com/harpercv-syllabus) | [Blackboard](#) | [Instructor](https://davidrhoffman.net)\n",
        "\n",
        "***Terms of use:*** *This course is public domain. If you'd like to use content from this course, please request consent by [contacting Harper College MakerSpace](https://www.harpercollege.edu/maker/contact/index.php).*\n",
        "\n",
        "---"
      ]
    },
    {
      "cell_type": "markdown",
      "metadata": {
        "id": "sMiUz-Gl9TwJ"
      },
      "source": [
        "# Object Detection"
      ]
    },
    {
      "cell_type": "markdown",
      "metadata": {
        "id": "WvrhFQeN9YCI"
      },
      "source": [
        "## Pre-Trained MobileNet SSD"
      ]
    },
    {
      "cell_type": "code",
      "metadata": {
        "colab": {
          "base_uri": "https://localhost:8080/"
        },
        "id": "DtPL2oY_BzDt",
        "outputId": "eed6a672-8e40-4faa-e0b2-6846af9cfd19"
      },
      "source": [
        "# mount your google drive (confirm via the link)\n",
        "from google.colab import drive\n",
        "drive.mount('/content/gdrive')"
      ],
      "execution_count": 2,
      "outputs": [
        {
          "output_type": "stream",
          "text": [
            "Mounted at /content/gdrive\n"
          ],
          "name": "stdout"
        }
      ]
    },
    {
      "cell_type": "code",
      "metadata": {
        "id": "3ac14vZk9cpR"
      },
      "source": [
        "# code playground\n",
        "\n",
        "# imports\n",
        "import numpy as np\n",
        "import cv2\n",
        "\n",
        "# settings dictionary\n",
        "settings = {\n",
        "    \"image\": \"path\",\n",
        "    \"prototxt\": \"gdrive/My Drive/Colab Notebooks/MobileNetSSD_deploy.prototxt.txt\",\n",
        "    \"model\": \"gdrive/My Drive/Colab Notebooks/MobileNetSSD_deploy.caffemodel\",\n",
        "    \"confidence_threshold\": 0.2\n",
        "}\n",
        "\n",
        "# define our classes of data\n",
        "CLASSES = [\"background\", \"aeroplane\", \"bicycle\", \"bird\", \"boat\",\n",
        "\t\"bottle\", \"bus\", \"car\", \"cat\", \"chair\", \"cow\", \"diningtable\",\n",
        "\t\"dog\", \"horse\", \"motorbike\", \"person\", \"pottedplant\", \"sheep\",\n",
        "\t\"sofa\", \"train\", \"tvmonitor\"]\n",
        "COLORS = np.random.uniform(0, 255, size=(len(CLASSES), 3))\n",
        "\n",
        "# load our model\n",
        "model = cv2.dnn.readNetFromCaffe(settings[\"prototxt\"], settings[\"model\"])"
      ],
      "execution_count": 3,
      "outputs": []
    }
  ]
}