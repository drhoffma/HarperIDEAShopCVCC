{
  "nbformat": 4,
  "nbformat_minor": 0,
  "metadata": {
    "colab": {
      "name": "06_DL_Object_Detection.ipynb",
      "provenance": [],
      "authorship_tag": "ABX9TyPbiwWdMPgovcRQPha3pdd0",
      "include_colab_link": true
    },
    "kernelspec": {
      "name": "python3",
      "display_name": "Python 3"
    },
    "language_info": {
      "name": "python"
    }
  },
  "cells": [
    {
      "cell_type": "markdown",
      "metadata": {
        "id": "view-in-github",
        "colab_type": "text"
      },
      "source": [
        "<a href=\"https://colab.research.google.com/github/drhoffma/HarperIDEAShopCVCC/blob/main/lessons/06_DL_Object_Detection.ipynb\" target=\"_parent\"><img src=\"https://colab.research.google.com/assets/colab-badge.svg\" alt=\"Open In Colab\"/></a>"
      ]
    },
    {
      "cell_type": "markdown",
      "metadata": {
        "id": "FLdLCUrk9Ok3"
      },
      "source": [
        "![](https://github.com/drhoffma/HarperIDEAShopCVCC/blob/main/colab_template/header_image.png?raw=true)\n",
        "\n",
        "# Welcome to **Harper College's IDEAShop** curriculum!\n",
        "\n",
        "**Course Title:** *Computer Vision, Cameras, & Code*\n",
        "\n",
        "**Quick Links:** [Homepage](https://tinyurl.com/harpercv-home) | [Syllabus](https://tinyurl.com/harpercv-syllabus) | [Blackboard](#) | [Instructor](https://davidrhoffman.net)\n",
        "\n",
        "***Terms of use:*** *This course is public domain. If you'd like to use content from this course, please request consent by [contacting Harper College MakerSpace](https://www.harpercollege.edu/maker/contact/index.php).*\n",
        "\n",
        "---"
      ]
    },
    {
      "cell_type": "markdown",
      "metadata": {
        "id": "sMiUz-Gl9TwJ"
      },
      "source": [
        "# Object Detection"
      ]
    },
    {
      "cell_type": "markdown",
      "metadata": {
        "id": "WvrhFQeN9YCI"
      },
      "source": [
        "## Pre-Trained MobileNet SSD"
      ]
    },
    {
      "cell_type": "code",
      "metadata": {
        "colab": {
          "base_uri": "https://localhost:8080/"
        },
        "id": "DtPL2oY_BzDt",
        "outputId": "eed6a672-8e40-4faa-e0b2-6846af9cfd19"
      },
      "source": [
        "# mount your google drive (confirm via the link)\n",
        "from google.colab import drive\n",
        "drive.mount('/content/gdrive')"
      ],
      "execution_count": 2,
      "outputs": [
        {
          "output_type": "stream",
          "text": [
            "Mounted at /content/gdrive\n"
          ],
          "name": "stdout"
        }
      ]
    },
    {
      "cell_type": "code",
      "metadata": {
        "id": "3ac14vZk9cpR"
      },
      "source": [
        "# code playground\n",
        "\n",
        "# imports\n",
        "import numpy as np\n",
        "import cv2\n",
        "\n",
        "# settings dictionary\n",
        "settings = {\n",
        "    \"image\": \"gdrive/My Drive/Colab Notebooks/cat.jpg\",\n",
        "    \"prototxt\": \"gdrive/My Drive/Colab Notebooks/MobileNetSSD_deploy.prototxt.txt\",\n",
        "    \"model\": \"gdrive/My Drive/Colab Notebooks/MobileNetSSD_deploy.caffemodel\",\n",
        "    \"confidence_threshold\": 0.2\n",
        "}\n",
        "\n",
        "# define our classes of data\n",
        "CLASSES = [\"background\", \"aeroplane\", \"bicycle\", \"bird\", \"boat\",\n",
        "\t\"bottle\", \"bus\", \"car\", \"cat\", \"chair\", \"cow\", \"diningtable\",\n",
        "\t\"dog\", \"horse\", \"motorbike\", \"person\", \"pottedplant\", \"sheep\",\n",
        "\t\"sofa\", \"train\", \"tvmonitor\"]\n",
        "COLORS = np.random.uniform(0, 255, size=(len(CLASSES), 3))\n",
        "\n",
        "# (1) load our model\n",
        "model = cv2.dnn.readNetFromCaffe(settings[\"prototxt\"], settings[\"model\"])\n",
        "\n",
        "# (2) load an image\n",
        "image = cv2.imread(settings[\"image\"])\n",
        "\n",
        "# (3) preprocess the image\n",
        "(h, w) = image.shape[:2]\n",
        "blob = cv2.dnn.blobFromImage(cv2.resize(image, (300, 300)), 0.007843, (300, 300), 127.5)\n",
        "\n",
        "# (4) perform inference (make a prediction)\n",
        "model.setInput(blob)\n",
        "detections = model.forward()  # analagous to \"model.predict()\"\n",
        "\n",
        "# (5) parse the detections; extract the class & confidence; draw a box around the object\n",
        "\n",
        "# loop over the detections\n",
        "for i in np.arange(0, detections.shape[2]):\n",
        "  # extract the confidence\n",
        "  confidence = detections[0, 0, i, 2]\n",
        "\n",
        "  # filter for confidence values that meet the threshold\n",
        "  if confidence < settings[\"confidence_threshold\"]:\n",
        "    continue\n",
        "  \n",
        "  # extract the index of the class label\n",
        "  idx = int(detections[0, 0, i, 1])\n",
        "\n",
        "  # set the class label based on the index\n",
        "  label = CLASSES[idx] + \" {:.2f}\".format(confidence * 100)\n",
        "\n",
        "  # annotate the image with a rectangle and class label\n",
        "  \n",
        "  cv2.rectangle(image, (x1, y1), (x2, y2), COLORS[idx], 2)\n",
        "\n",
        "\n",
        "\n",
        "\n",
        "\n"
      ],
      "execution_count": 5,
      "outputs": []
    }
  ]
}