{
  "nbformat": 4,
  "nbformat_minor": 0,
  "metadata": {
    "colab": {
      "name": "01_Python_variables_functions_classes_objects.ipynb",
      "provenance": [],
      "collapsed_sections": [],
      "authorship_tag": "ABX9TyNsYA4a554bHlaoYEAn6Me7",
      "include_colab_link": true
    },
    "kernelspec": {
      "name": "python3",
      "display_name": "Python 3"
    },
    "language_info": {
      "name": "python"
    }
  },
  "cells": [
    {
      "cell_type": "markdown",
      "metadata": {
        "id": "view-in-github",
        "colab_type": "text"
      },
      "source": [
        "<a href=\"https://colab.research.google.com/github/drhoffma/HarperIDEAShopCVCC/blob/main/lessons/01_Python_variables_functions_classes_objects.ipynb\" target=\"_parent\"><img src=\"https://colab.research.google.com/assets/colab-badge.svg\" alt=\"Open In Colab\"/></a>"
      ]
    },
    {
      "cell_type": "markdown",
      "metadata": {
        "id": "yKOi7iAREd2D"
      },
      "source": [
        "![](https://github.com/drhoffma/HarperIDEAShopCVCC/blob/main/colab_template/header_image.png?raw=true)\n",
        "\n",
        "# Welcome to **Harper College's IDEAShop** curriculum!\n",
        "\n",
        "**Course Title:** *Computer Vision, Cameras, & Code*\n",
        "\n",
        "**Quick Links:** [Homepage](https://tinyurl.com/harpercv-home) | [Syllabus](https://tinyurl.com/harpercv-syllabus) | [Blackboard](#) | [Instructor](https://davidrhoffman.net)\n",
        "\n",
        "***Terms of use:*** *This course is public domain. If you'd like to use content from this course, please request consent by [contacting Harper College MakerSpace](https://www.harpercollege.edu/maker/contact/index.php).*\n",
        "\n",
        "---"
      ]
    },
    {
      "cell_type": "markdown",
      "metadata": {
        "id": "RI_HPDcMeFnk"
      },
      "source": [
        "# A Quick Review of Python"
      ]
    },
    {
      "cell_type": "markdown",
      "metadata": {
        "id": "BpdPo7TkeNga"
      },
      "source": [
        "## What is Python?\n",
        "\n",
        "Python is an interpretd scripting language developed in the 1980s in the Netherlands. Guido van Rossum created Python and still to this day leads the maintenance and core development team.\n",
        "\n",
        "Python gets its name from the 1969 movie _[Monty Python's Flying Circus](https://en.wikipedia.org/wiki/Monty_Python%27s_Flying_Circus)_.  No, the Python language is not named for the large snake!\n",
        "\n",
        "Python is based on the C++ programming language -- a compiled language. Python is interpretd, meaning that it is quickly compiled at runtime and leverages underlying C++.\n",
        "\n",
        "_source: [Introduction to Python 3](https://realpython.com/python-introduction/) - RealPython.com_"
      ]
    },
    {
      "cell_type": "markdown",
      "metadata": {
        "id": "bEn7QHo2FZZ3"
      },
      "source": [
        "## Why Python?\n",
        "\n",
        "Python has become ubiquitus for the web, data science, prototyping, deep learning, computer vision, natural language processing, and more! Python runs on nearly every device. There are libraries for nearly any use case you can dream up.  Python can even run on microcontrollers -- \"micropython.\"\n",
        "\n",
        "Python has grown in Google Trends since 2004 while languages like Java which rely on a Java Virtual Machine (JVM) have decreased in popularity.  C++ has remained a steady winner which makes sense from the perspective of Python -- Python is built on C++.\n",
        "\n",
        "![](https://github.com/drhoffma/HarperIDEAShopCVCC/blob/main/lessons/images/python_trend.png?raw=true)"
      ]
    },
    {
      "cell_type": "markdown",
      "metadata": {
        "id": "2loyeUPednMA"
      },
      "source": [
        "# Python essentials"
      ]
    },
    {
      "cell_type": "markdown",
      "metadata": {
        "id": "7U81JBBad0Nv"
      },
      "source": [
        "## variables"
      ]
    },
    {
      "cell_type": "code",
      "metadata": {
        "colab": {
          "base_uri": "https://localhost:8080/"
        },
        "collapsed": true,
        "id": "CtuABlwaMtn2",
        "outputId": "6c8e2189-9443-4f71-84dd-91f8b3e83555"
      },
      "source": [
        "# two variables\n",
        "a = 5\n",
        "b = 12\n",
        "\n",
        "# addition\n",
        "c = a + b\n",
        "print(\"What is {} + {}?\".format(a, b))\n",
        "print(c)\n",
        "\n",
        "# multiplication\n",
        "d = a * b\n",
        "print(\"What is {} * {}?\".format(a, b))\n",
        "print(d)\n",
        "\n",
        "# modulu (remainder of division)\n",
        "e = b % a\n",
        "print(\"What is {} % {}?\".format(b, a))\n",
        "print(e)\n",
        "\n",
        "# string concatenation\n",
        "concat = str(a) + str(b)\n",
        "print(\"What is the string form of {} concatenated with the string form of {}?\".format(a, b))\n",
        "print(concat)"
      ],
      "execution_count": 3,
      "outputs": [
        {
          "output_type": "stream",
          "text": [
            "What is 5 + 12?\n",
            "17\n",
            "What is 5 * 12?\n",
            "60\n",
            "What is 12 % 5?\n",
            "2\n",
            "What is the string form of 5 concatenated with the string form of 12?\n",
            "512\n"
          ],
          "name": "stdout"
        }
      ]
    },
    {
      "cell_type": "markdown",
      "metadata": {
        "id": "VjhaUYX9PQFo"
      },
      "source": [
        "🦅 Do it! Adjust the variable `a` so that the assertions are True!\n",
        "\n",
        "Assertions are a great way to test code."
      ]
    },
    {
      "cell_type": "code",
      "metadata": {
        "colab": {
          "base_uri": "https://localhost:8080/",
          "height": 215
        },
        "collapsed": true,
        "id": "7EDLQKD8Mqpo",
        "outputId": "c648c2d2-964e-4920-fcd5-0085f3eeafcc"
      },
      "source": [
        "# figure out the best value for `a` so that the assertion is True\n",
        "a = 1\n",
        "\n",
        "# don't change anything below this comment\n",
        "b = 12\n",
        "assert a * b == 169.2, \"a is invalid\"\n",
        "print(\"Good job!\")\n"
      ],
      "execution_count": 22,
      "outputs": [
        {
          "output_type": "error",
          "ename": "AssertionError",
          "evalue": "ignored",
          "traceback": [
            "\u001b[0;31m---------------------------------------------------------------------------\u001b[0m",
            "\u001b[0;31mAssertionError\u001b[0m                            Traceback (most recent call last)",
            "\u001b[0;32m<ipython-input-22-c17e427250aa>\u001b[0m in \u001b[0;36m<module>\u001b[0;34m()\u001b[0m\n\u001b[1;32m      4\u001b[0m \u001b[0;31m# don't change anything below this comment\u001b[0m\u001b[0;34m\u001b[0m\u001b[0;34m\u001b[0m\u001b[0;34m\u001b[0m\u001b[0m\n\u001b[1;32m      5\u001b[0m \u001b[0mb\u001b[0m \u001b[0;34m=\u001b[0m \u001b[0;36m12\u001b[0m\u001b[0;34m\u001b[0m\u001b[0;34m\u001b[0m\u001b[0m\n\u001b[0;32m----> 6\u001b[0;31m \u001b[0;32massert\u001b[0m \u001b[0ma\u001b[0m \u001b[0;34m*\u001b[0m \u001b[0mb\u001b[0m \u001b[0;34m==\u001b[0m \u001b[0;36m169.4\u001b[0m\u001b[0;34m,\u001b[0m \u001b[0;34m\"a is invalid\"\u001b[0m\u001b[0;34m\u001b[0m\u001b[0;34m\u001b[0m\u001b[0m\n\u001b[0m\u001b[1;32m      7\u001b[0m \u001b[0mprint\u001b[0m\u001b[0;34m(\u001b[0m\u001b[0;34m\"Good job!\"\u001b[0m\u001b[0;34m)\u001b[0m\u001b[0;34m\u001b[0m\u001b[0;34m\u001b[0m\u001b[0m\n",
            "\u001b[0;31mAssertionError\u001b[0m: a is invalid"
          ]
        }
      ]
    },
    {
      "cell_type": "markdown",
      "metadata": {
        "id": "5iIgwJAlRSDB"
      },
      "source": [
        "## lists & tuples\n",
        "\n",
        "Python **lists** hold multiple items in a single variable. You can mix datatypes.  Lists are mutable\n",
        "\n",
        "Python **tuples** hold multiple items in a single variable. You can mix datatypes. Tuples are immutable"
      ]
    },
    {
      "cell_type": "code",
      "metadata": {
        "colab": {
          "base_uri": "https://localhost:8080/"
        },
        "collapsed": true,
        "id": "z9-X8SxbRtFb",
        "outputId": "c762b5c3-e3ff-4682-8ff1-447e8f6e94ef"
      },
      "source": [
        "# two lists\n",
        "a = [\"snake\", \"goat\", \"hawk\", \"bear\", \"scorpion\"]\n",
        "b = [3, 9, 7, 4, 8]\n",
        "\n",
        "# concatenate two lists\n",
        "c = a + b\n",
        "print(\"What is a + b\")\n",
        "print(c)\n",
        "\n",
        "# sort list a\n",
        "print(\"What is sorted(a)?\")\n",
        "print(sorted(a))\n",
        "\n",
        "# sort list b\n",
        "print(\"What is sorted(b)?\")\n",
        "print(sorted(b))\n",
        "\n",
        "# let's remove the `goat` from list c\n",
        "c.remove(\"goat\")\n",
        "print(\"What is in list `c` now?\")\n",
        "print(c)\n",
        "\n",
        "# tuple\n",
        "d = (\"snake\", \"goat\", \"hawk\")"
      ],
      "execution_count": 21,
      "outputs": [
        {
          "output_type": "stream",
          "text": [
            "What is a + b\n",
            "['snake', 'goat', 'hawk', 'bear', 'scorpion', 3, 9, 7, 4, 8]\n",
            "What is sorted(a)?\n",
            "['bear', 'goat', 'hawk', 'scorpion', 'snake']\n",
            "What is sorted(b)?\n",
            "[3, 4, 7, 8, 9]\n",
            "What is in list `c` now?\n",
            "['snake', 'hawk', 'bear', 'scorpion', 3, 9, 7, 4, 8]\n"
          ],
          "name": "stdout"
        }
      ]
    },
    {
      "cell_type": "markdown",
      "metadata": {
        "id": "j9zIPNeUUC64"
      },
      "source": [
        "🦅 Do it! Try to add/remove elements to the list `a` and tuple `d`."
      ]
    },
    {
      "cell_type": "code",
      "metadata": {
        "id": "PE6xiFhZUKs9"
      },
      "source": [
        "# add your favorite animal to list `a`\n",
        "\n",
        "\n",
        "# add your favorite animal to tuple `d`\n",
        "\n"
      ],
      "execution_count": null,
      "outputs": []
    },
    {
      "cell_type": "code",
      "metadata": {
        "id": "m4Aqku5pURx6"
      },
      "source": [
        "# remove the \"snake\" from list `a`\n",
        "\n",
        "\n",
        "# remove the \"snake\" from tuple `d`\n",
        "\n"
      ],
      "execution_count": null,
      "outputs": []
    },
    {
      "cell_type": "markdown",
      "metadata": {
        "id": "5A75yjrSUgGD"
      },
      "source": [
        "Did you notice anything different about tuples compared to lists?"
      ]
    },
    {
      "cell_type": "markdown",
      "metadata": {
        "id": "BfX2jcOYep-o"
      },
      "source": [
        "## dictionaries\n",
        "\n",
        "Python dictionaries use key:value structure. The analogy is a a language dictionary's word:definition structure."
      ]
    },
    {
      "cell_type": "code",
      "metadata": {
        "id": "r8Ec9_yZe-J3"
      },
      "source": [
        "# create a dictionary\n",
        "landmarks = {\n",
        "    \"Eiffel Tower\": {\n",
        "        \"location\": \"Paris, France\",\n",
        "        \"height\": 324,\n",
        "        \"usage\": [\"observation\", \"broadcasting\", \"global cultural icon\"]\n",
        "    },\n",
        "\n",
        "    \"Willis Tower\": {\n",
        "        \"location\": \"Chicago, Illinois\",\n",
        "        \"former name\": \"Sears Tower\",\n",
        "        \"height\": 527,\n",
        "        \"usage\": [\"office\", \"observation\", \"broadcasting\"]\n",
        "    }\n",
        "}"
      ],
      "execution_count": 35,
      "outputs": []
    },
    {
      "cell_type": "markdown",
      "metadata": {
        "id": "hfMDH9CTg5wX"
      },
      "source": [
        "🦅 Do it! \n",
        "\n",
        "(1) Add a key/value for `\"year_construction_completed\"` to each landmark above.\n",
        "\n",
        "(2) Add a favorite landmark with relevant information to the dictionary above.\n",
        "\n",
        "Fix any syntax errors."
      ]
    },
    {
      "cell_type": "markdown",
      "metadata": {
        "id": "VE995HB6hfHI"
      },
      "source": [
        "Let's access values in the dictionary!"
      ]
    },
    {
      "cell_type": "code",
      "metadata": {
        "colab": {
          "base_uri": "https://localhost:8080/"
        },
        "collapsed": true,
        "id": "CM64Kch2hiTo",
        "outputId": "9afc9330-0119-47b3-976e-13816666c374"
      },
      "source": [
        "# what is the height of Willis Tower\n",
        "print(\"Willis Tower is {}m tall!\".format(landmarks[\"Willis Tower\"][\"height\"]))"
      ],
      "execution_count": 36,
      "outputs": [
        {
          "output_type": "stream",
          "text": [
            "Willis Tower is 527m tall!\n"
          ],
          "name": "stdout"
        }
      ]
    },
    {
      "cell_type": "code",
      "metadata": {
        "colab": {
          "base_uri": "https://localhost:8080/",
          "height": 181
        },
        "collapsed": true,
        "id": "1IRyd9Jbh1zx",
        "outputId": "eceefa61-d465-409a-879c-19dd99a1f4f0"
      },
      "source": [
        "# when was the Eiffel Tower constructed\n",
        "print(\"The Eiffel Tower completed construction in year {}!\".format(landmarks[\"Eiffel Tower\"][\"year_construction_completed\"]))"
      ],
      "execution_count": 28,
      "outputs": [
        {
          "output_type": "error",
          "ename": "KeyError",
          "evalue": "ignored",
          "traceback": [
            "\u001b[0;31m---------------------------------------------------------------------------\u001b[0m",
            "\u001b[0;31mKeyError\u001b[0m                                  Traceback (most recent call last)",
            "\u001b[0;32m<ipython-input-28-bda783cf1676>\u001b[0m in \u001b[0;36m<module>\u001b[0;34m()\u001b[0m\n\u001b[1;32m      1\u001b[0m \u001b[0;31m# when was the Eiffel Tower constructed\u001b[0m\u001b[0;34m\u001b[0m\u001b[0;34m\u001b[0m\u001b[0;34m\u001b[0m\u001b[0m\n\u001b[0;32m----> 2\u001b[0;31m \u001b[0mprint\u001b[0m\u001b[0;34m(\u001b[0m\u001b[0;34m\"The Eiffel Tower completed construction in year {}!\"\u001b[0m\u001b[0;34m.\u001b[0m\u001b[0mformat\u001b[0m\u001b[0;34m(\u001b[0m\u001b[0mlandmarks\u001b[0m\u001b[0;34m[\u001b[0m\u001b[0;34m\"Eiffel Tower\"\u001b[0m\u001b[0;34m]\u001b[0m\u001b[0;34m[\u001b[0m\u001b[0;34m\"year_construction_completed\"\u001b[0m\u001b[0;34m]\u001b[0m\u001b[0;34m)\u001b[0m\u001b[0;34m)\u001b[0m\u001b[0;34m\u001b[0m\u001b[0;34m\u001b[0m\u001b[0m\n\u001b[0m",
            "\u001b[0;31mKeyError\u001b[0m: 'year_construction_completed'"
          ]
        }
      ]
    },
    {
      "cell_type": "markdown",
      "metadata": {
        "id": "UN3nymsTibY-"
      },
      "source": [
        "Can we determine the tallest landmark?"
      ]
    },
    {
      "cell_type": "code",
      "metadata": {
        "colab": {
          "base_uri": "https://localhost:8080/"
        },
        "collapsed": true,
        "id": "tyiZ3l6GiwKP",
        "outputId": "ad338973-a4c0-4bda-96dc-ece367b0e18e"
      },
      "source": [
        "# what is the tallest landmark?\n",
        "tallest = max(landmarks, key=lambda k: landmarks[k][\"height\"])\n",
        "print(\"The tallest landmark is: {}\".format(tallest))"
      ],
      "execution_count": 42,
      "outputs": [
        {
          "output_type": "stream",
          "text": [
            "The tallest landmark is: Willis Tower\n"
          ],
          "name": "stdout"
        }
      ]
    },
    {
      "cell_type": "markdown",
      "metadata": {
        "id": "m1SMcvPckUhb"
      },
      "source": [
        "🦅 Do it! Determine the oldest landmark."
      ]
    },
    {
      "cell_type": "code",
      "metadata": {
        "id": "K613OS_bkbQQ"
      },
      "source": [
        "# what is the oldest landmark?\n",
        "# your code here"
      ],
      "execution_count": null,
      "outputs": []
    }
  ]
}