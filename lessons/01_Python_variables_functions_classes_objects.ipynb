{
  "nbformat": 4,
  "nbformat_minor": 0,
  "metadata": {
    "colab": {
      "name": "01_Python_variables_functions_classes_objects.ipynb",
      "provenance": [],
      "authorship_tag": "ABX9TyMKZBtV1r5Tx35w01c4WE94",
      "include_colab_link": true
    },
    "kernelspec": {
      "name": "python3",
      "display_name": "Python 3"
    },
    "language_info": {
      "name": "python"
    }
  },
  "cells": [
    {
      "cell_type": "markdown",
      "metadata": {
        "id": "view-in-github",
        "colab_type": "text"
      },
      "source": [
        "<a href=\"https://colab.research.google.com/github/drhoffma/HarperIDEAShopCVCC/blob/main/lessons/01_Python_variables_functions_classes_objects.ipynb\" target=\"_parent\"><img src=\"https://colab.research.google.com/assets/colab-badge.svg\" alt=\"Open In Colab\"/></a>"
      ]
    },
    {
      "cell_type": "markdown",
      "metadata": {
        "id": "yKOi7iAREd2D"
      },
      "source": [
        "![](https://github.com/drhoffma/HarperIDEAShopCVCC/blob/main/colab_template/header_image.png?raw=true)\n",
        "\n",
        "# Welcome to **Harper College's IDEAShop** curriculum!\n",
        "\n",
        "**Course Title:** *Computer Vision, Cameras, & Code*\n",
        "\n",
        "**Quick Links:** [Homepage](https://tinyurl.com/harpercv-home) | [Syllabus](https://tinyurl.com/harpercv-syllabus) | [Blackboard](#) | [Instructor](https://davidrhoffman.net)\n",
        "\n",
        "***Terms of use:*** *This course is public domain. If you'd like to use content from this course, please request consent by [contacting Harper College MakerSpace](https://www.harpercollege.edu/maker/contact/index.php).*\n",
        "\n",
        "---"
      ]
    },
    {
      "cell_type": "markdown",
      "metadata": {
        "id": "bEn7QHo2FZZ3"
      },
      "source": [
        ""
      ]
    }
  ]
}