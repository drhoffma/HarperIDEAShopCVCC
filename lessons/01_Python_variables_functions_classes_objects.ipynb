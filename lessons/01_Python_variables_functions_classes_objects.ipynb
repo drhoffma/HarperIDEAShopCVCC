{
  "nbformat": 4,
  "nbformat_minor": 0,
  "metadata": {
    "colab": {
      "name": "01_Python_variables_functions_classes_objects.ipynb",
      "provenance": [],
      "collapsed_sections": [],
      "authorship_tag": "ABX9TyNsYA4a554bHlaoYEAn6Me7",
      "include_colab_link": true
    },
    "kernelspec": {
      "name": "python3",
      "display_name": "Python 3"
    },
    "language_info": {
      "name": "python"
    }
  },
  "cells": [
    {
      "cell_type": "markdown",
      "metadata": {
        "id": "view-in-github",
        "colab_type": "text"
      },
      "source": [
        "<a href=\"https://colab.research.google.com/github/drhoffma/HarperIDEAShopCVCC/blob/main/lessons/01_Python_variables_functions_classes_objects.ipynb\" target=\"_parent\"><img src=\"https://colab.research.google.com/assets/colab-badge.svg\" alt=\"Open In Colab\"/></a>"
      ]
    },
    {
      "cell_type": "markdown",
      "metadata": {
        "id": "yKOi7iAREd2D"
      },
      "source": [
        "![](https://github.com/drhoffma/HarperIDEAShopCVCC/blob/main/colab_template/header_image.png?raw=true)\n",
        "\n",
        "# Welcome to **Harper College's IDEAShop** curriculum!\n",
        "\n",
        "**Course Title:** *Computer Vision, Cameras, & Code*\n",
        "\n",
        "**Quick Links:** [Homepage](https://tinyurl.com/harpercv-home) | [Syllabus](https://tinyurl.com/harpercv-syllabus) | [Blackboard](#) | [Instructor](https://davidrhoffman.net)\n",
        "\n",
        "***Terms of use:*** *This course is public domain. If you'd like to use content from this course, please request consent by [contacting Harper College MakerSpace](https://www.harpercollege.edu/maker/contact/index.php).*\n",
        "\n",
        "---"
      ]
    },
    {
      "cell_type": "markdown",
      "metadata": {
        "id": "RI_HPDcMeFnk"
      },
      "source": [
        "# A Quick Review of Python"
      ]
    },
    {
      "cell_type": "markdown",
      "metadata": {
        "id": "BpdPo7TkeNga"
      },
      "source": [
        "## What is Python?\n",
        "\n",
        "Python is an interpretd scripting language developed in the 1980s in the Netherlands. Guido van Rossum created Python and still to this day leads the maintenance and core development team.\n",
        "\n",
        "Python gets its name from the 1969 movie _[Monty Python's Flying Circus](https://en.wikipedia.org/wiki/Monty_Python%27s_Flying_Circus)_.  No, the Python language is not named for the large snake!\n",
        "\n",
        "Python is based on the C++ programming language -- a compiled language. Python is interpretd, meaning that it is quickly compiled at runtime and leverages underlying C++.\n",
        "\n",
        "_source: [Introduction to Python 3](https://realpython.com/python-introduction/) - RealPython.com_"
      ]
    },
    {
      "cell_type": "markdown",
      "metadata": {
        "id": "bEn7QHo2FZZ3"
      },
      "source": [
        "## Why Python?\n",
        "\n",
        "Python has become ubiquitus for the web, data science, prototyping, deep learning, computer vision, natural language processing, and more! Python runs on nearly every device. There are libraries for nearly any use case you can dream up.  Python can even run on microcontrollers -- \"micropython.\"\n",
        "\n",
        "Python has grown in Google Trends since 2004 while languages like Java which rely on a Java Virtual Machine (JVM) have decreased in popularity.  C++ has remained a steady winner which makes sense from the perspective of Python -- Python is built on C++.\n",
        "\n",
        "![](https://github.com/drhoffma/HarperIDEAShopCVCC/blob/main/lessons/images/python_trend.png?raw=true)"
      ]
    },
    {
      "cell_type": "markdown",
      "metadata": {
        "id": "2loyeUPednMA"
      },
      "source": [
        "# Python essentials"
      ]
    },
    {
      "cell_type": "markdown",
      "metadata": {
        "id": "7U81JBBad0Nv"
      },
      "source": [
        "## variables"
      ]
    },
    {
      "cell_type": "code",
      "metadata": {
        "id": "CtuABlwaMtn2"
      },
      "source": [
        "# two variables\n",
        "a = 5\n",
        "b = 12\n",
        "\n",
        "# addition\n",
        "c = a + b\n",
        "print(\"What is {} + {}?\".format(a, b))\n",
        "print(c)\n",
        "\n",
        "# multiplication\n",
        "d = a * b\n",
        "print(\"What is {} * {}?\".format(a, b))\n",
        "print(d)\n",
        "\n",
        "# modulu (remainder of division)\n",
        "e = b % a\n",
        "print(\"What is {} % {}?\".format(b, a))\n",
        "print(e)\n",
        "\n",
        "# string concatenation\n",
        "concat = str(a) + str(b)\n",
        "print(\"What is the string form of {} concatenated with the string form of {}?\".format(a, b))\n",
        "print(concat)"
      ],
      "execution_count": null,
      "outputs": []
    },
    {
      "cell_type": "markdown",
      "metadata": {
        "id": "VjhaUYX9PQFo"
      },
      "source": [
        "🦅 Do it! Adjust the variable `a` so that the assertions are True!\n",
        "\n",
        "Assertions are a great way to test code."
      ]
    },
    {
      "cell_type": "code",
      "metadata": {
        "id": "7EDLQKD8Mqpo"
      },
      "source": [
        "# figure out the best value for `a` so that the assertion is True\n",
        "a = 1\n",
        "\n",
        "# don't change anything below this comment\n",
        "b = 12\n",
        "assert a * b == 169.2, \"a is invalid\"\n",
        "print(\"Good job!\")\n"
      ],
      "execution_count": null,
      "outputs": []
    },
    {
      "cell_type": "markdown",
      "metadata": {
        "id": "5iIgwJAlRSDB"
      },
      "source": [
        "## lists & tuples\n",
        "\n",
        "Python **lists** hold multiple items in a single variable. You can mix datatypes.  Lists are mutable\n",
        "\n",
        "Python **tuples** hold multiple items in a single variable. You can mix datatypes. Tuples are immutable"
      ]
    },
    {
      "cell_type": "code",
      "metadata": {
        "id": "z9-X8SxbRtFb"
      },
      "source": [
        "# two lists\n",
        "a = [\"snake\", \"goat\", \"hawk\", \"bear\", \"scorpion\"]\n",
        "b = [3, 9, 7, 4, 8]\n",
        "\n",
        "# concatenate two lists\n",
        "c = a + b\n",
        "print(\"What is a + b\")\n",
        "print(c)\n",
        "\n",
        "# sort list a\n",
        "print(\"What is sorted(a)?\")\n",
        "print(sorted(a))\n",
        "\n",
        "# sort list b\n",
        "print(\"What is sorted(b)?\")\n",
        "print(sorted(b))\n",
        "\n",
        "# let's remove the `goat` from list c\n",
        "c.remove(\"goat\")\n",
        "print(\"What is in list `c` now?\")\n",
        "print(c)\n",
        "\n",
        "# tuple\n",
        "d = (\"snake\", \"goat\", \"hawk\")"
      ],
      "execution_count": null,
      "outputs": []
    },
    {
      "cell_type": "markdown",
      "metadata": {
        "id": "j9zIPNeUUC64"
      },
      "source": [
        "🦅 Do it! Try to add/remove elements to the list `a` and tuple `d`."
      ]
    },
    {
      "cell_type": "code",
      "metadata": {
        "id": "PE6xiFhZUKs9"
      },
      "source": [
        "# add your favorite animal to list `a`\n",
        "\n",
        "\n",
        "# add your favorite animal to tuple `d`\n",
        "\n"
      ],
      "execution_count": null,
      "outputs": []
    },
    {
      "cell_type": "code",
      "metadata": {
        "id": "m4Aqku5pURx6"
      },
      "source": [
        "# remove the \"snake\" from list `a`\n",
        "\n",
        "\n",
        "# remove the \"snake\" from tuple `d`\n",
        "\n"
      ],
      "execution_count": null,
      "outputs": []
    },
    {
      "cell_type": "markdown",
      "metadata": {
        "id": "5A75yjrSUgGD"
      },
      "source": [
        "Did you notice anything different about tuples compared to lists?"
      ]
    },
    {
      "cell_type": "markdown",
      "metadata": {
        "id": "BfX2jcOYep-o"
      },
      "source": [
        "## dictionaries\n",
        "\n",
        "Python dictionaries use key:value structure. The analogy is a a language dictionary's word:definition structure."
      ]
    },
    {
      "cell_type": "code",
      "metadata": {
        "id": "r8Ec9_yZe-J3"
      },
      "source": [
        "# create a dictionary\n",
        "landmarks = {\n",
        "    \"Eiffel Tower\": {\n",
        "        \"location\": \"Paris, France\",\n",
        "        \"height\": 324,\n",
        "        \"usage\": [\"observation\", \"broadcasting\", \"global cultural icon\"]\n",
        "    },\n",
        "\n",
        "    \"Willis Tower\": {\n",
        "        \"location\": \"Chicago, Illinois\",\n",
        "        \"former name\": \"Sears Tower\",\n",
        "        \"height\": 527,\n",
        "        \"usage\": [\"office\", \"observation\", \"broadcasting\"]\n",
        "    }\n",
        "}"
      ],
      "execution_count": null,
      "outputs": []
    },
    {
      "cell_type": "markdown",
      "metadata": {
        "id": "hfMDH9CTg5wX"
      },
      "source": [
        "🦅 Do it! \n",
        "\n",
        "(1) Add a key/value for `\"year_construction_completed\"` to each landmark above.\n",
        "\n",
        "(2) Add a favorite landmark with relevant information to the dictionary above.\n",
        "\n",
        "Fix any syntax errors."
      ]
    },
    {
      "cell_type": "markdown",
      "metadata": {
        "id": "VE995HB6hfHI"
      },
      "source": [
        "Let's access values in the dictionary!"
      ]
    },
    {
      "cell_type": "code",
      "metadata": {
        "id": "CM64Kch2hiTo"
      },
      "source": [
        "# what is the height of Willis Tower\n",
        "print(\"Willis Tower is {}m tall!\".format(landmarks[\"Willis Tower\"][\"height\"]))"
      ],
      "execution_count": null,
      "outputs": []
    },
    {
      "cell_type": "code",
      "metadata": {
        "id": "1IRyd9Jbh1zx"
      },
      "source": [
        "# when was the Eiffel Tower constructed\n",
        "print(\"The Eiffel Tower completed construction in year {}!\".format(landmarks[\"Eiffel Tower\"][\"year_construction_completed\"]))"
      ],
      "execution_count": null,
      "outputs": []
    },
    {
      "cell_type": "markdown",
      "metadata": {
        "id": "UN3nymsTibY-"
      },
      "source": [
        "Can we determine the tallest landmark?"
      ]
    },
    {
      "cell_type": "code",
      "metadata": {
        "id": "tyiZ3l6GiwKP"
      },
      "source": [
        "# what is the tallest landmark?\n",
        "tallest = max(landmarks, key=lambda k: landmarks[k][\"height\"])\n",
        "print(\"The tallest landmark is: {}\".format(tallest))"
      ],
      "execution_count": null,
      "outputs": []
    },
    {
      "cell_type": "markdown",
      "metadata": {
        "id": "m1SMcvPckUhb"
      },
      "source": [
        "🦅 Do it! Determine the oldest landmark."
      ]
    },
    {
      "cell_type": "code",
      "metadata": {
        "id": "K613OS_bkbQQ"
      },
      "source": [
        "# what is the oldest landmark?\n",
        "# your code here"
      ],
      "execution_count": null,
      "outputs": []
    }
  ]
}