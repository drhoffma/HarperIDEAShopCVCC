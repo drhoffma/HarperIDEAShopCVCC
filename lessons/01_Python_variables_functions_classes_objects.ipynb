{
  "nbformat": 4,
  "nbformat_minor": 0,
  "metadata": {
    "colab": {
      "name": "01_Python_variables_functions_classes_objects.ipynb",
      "provenance": [],
      "collapsed_sections": [],
      "authorship_tag": "ABX9TyMtNiGkaBdbqNXgK+wnn6l5",
      "include_colab_link": true
    },
    "kernelspec": {
      "name": "python3",
      "display_name": "Python 3"
    },
    "language_info": {
      "name": "python"
    }
  },
  "cells": [
    {
      "cell_type": "markdown",
      "metadata": {
        "id": "view-in-github",
        "colab_type": "text"
      },
      "source": [
        "<a href=\"https://colab.research.google.com/github/drhoffma/HarperIDEAShopCVCC/blob/main/lessons/01_Python_variables_functions_classes_objects.ipynb\" target=\"_parent\"><img src=\"https://colab.research.google.com/assets/colab-badge.svg\" alt=\"Open In Colab\"/></a>"
      ]
    },
    {
      "cell_type": "markdown",
      "metadata": {
        "id": "yKOi7iAREd2D"
      },
      "source": [
        "![](https://github.com/drhoffma/HarperIDEAShopCVCC/blob/main/colab_template/header_image.png?raw=true)\n",
        "\n",
        "# Welcome to **Harper College's IDEAShop** curriculum!\n",
        "\n",
        "**Course Title:** *Computer Vision, Cameras, & Code*\n",
        "\n",
        "**Quick Links:** [Homepage](https://tinyurl.com/harpercv-home) | [Syllabus](https://tinyurl.com/harpercv-syllabus) | [Blackboard](#) | [Instructor](https://davidrhoffman.net)\n",
        "\n",
        "***Terms of use:*** *This course is public domain. If you'd like to use content from this course, please request consent by [contacting Harper College MakerSpace](https://www.harpercollege.edu/maker/contact/index.php).*\n",
        "\n",
        "---"
      ]
    },
    {
      "cell_type": "markdown",
      "metadata": {
        "id": "RI_HPDcMeFnk"
      },
      "source": [
        "# A Quick Review of Python"
      ]
    },
    {
      "cell_type": "markdown",
      "metadata": {
        "id": "BpdPo7TkeNga"
      },
      "source": [
        "## What is Python?\n",
        "\n",
        "Python is an interpreted scripting language developed in the 1980s in the Netherlands. Guido van Rossum created Python and still to this day leads the maintenance and core development team.\n",
        "\n",
        "Python gets its name from the 1969 movie _[Monty Python's Flying Circus](https://en.wikipedia.org/wiki/Monty_Python%27s_Flying_Circus)_.  No, the Python language is not named for the large snake!\n",
        "\n",
        "Python is based on the C++ programming language -- a compiled language. Python is interpretd, meaning that it is quickly compiled at runtime and leverages underlying C++.\n",
        "\n",
        "_source: [Introduction to Python 3](https://realpython.com/python-introduction/) - RealPython.com_"
      ]
    },
    {
      "cell_type": "markdown",
      "metadata": {
        "id": "bEn7QHo2FZZ3"
      },
      "source": [
        "## Why Python?\n",
        "\n",
        "Python has become ubiquitus for the web, data science, prototyping, deep learning, computer vision, natural language processing, and more! Python runs on nearly every device. There are libraries for nearly any use case you can dream up.  Python can even run on microcontrollers -- \"micropython.\"\n",
        "\n",
        "Python has grown in Google Trends since 2004 while languages like Java which rely on a Java Virtual Machine (JVM) have decreased in popularity.  C++ has remained a steady winner which makes sense from the perspective of Python -- Python is built on C++.\n",
        "\n",
        "![](https://github.com/drhoffma/HarperIDEAShopCVCC/blob/main/lessons/images/python_trend.png?raw=true)"
      ]
    },
    {
      "cell_type": "markdown",
      "metadata": {
        "id": "2loyeUPednMA"
      },
      "source": [
        "# Python essentials"
      ]
    },
    {
      "cell_type": "markdown",
      "metadata": {
        "id": "7U81JBBad0Nv"
      },
      "source": [
        "## variables"
      ]
    },
    {
      "cell_type": "code",
      "metadata": {
        "id": "CtuABlwaMtn2",
        "outputId": "9ef751e7-2de8-4a30-a34c-e88ff9e7ae9c",
        "colab": {
          "base_uri": "https://localhost:8080/"
        }
      },
      "source": [
        "# two variables\n",
        "a = 5\n",
        "b = 12\n",
        "\n",
        "# addition\n",
        "c = a + b\n",
        "print(\"What is {} + {}?\".format(a, b))\n",
        "print(c)\n",
        "\n",
        "# multiplication\n",
        "d = a * b\n",
        "print(\"What is {} * {}?\".format(a, b))\n",
        "print(d)\n",
        "\n",
        "# modulu (remainder of division)\n",
        "e = b % a\n",
        "print(\"What is {} % {}?\".format(b, a))\n",
        "print(e)\n",
        "\n",
        "# string concatenation\n",
        "concat = str(a) + str(b)\n",
        "print(\"What is the string form of {} concatenated with the string form of {}?\".format(a, b))\n",
        "print(concat)"
      ],
      "execution_count": 1,
      "outputs": [
        {
          "output_type": "stream",
          "text": [
            "What is 5 + 12?\n",
            "17\n",
            "What is 5 * 12?\n",
            "60\n",
            "What is 12 % 5?\n",
            "2\n",
            "What is the string form of 5 concatenated with the string form of 12?\n",
            "512\n"
          ],
          "name": "stdout"
        }
      ]
    },
    {
      "cell_type": "markdown",
      "metadata": {
        "id": "VjhaUYX9PQFo"
      },
      "source": [
        "🦅 Do it! Adjust the variable `a` so that the assertions are True!\n",
        "\n",
        "Assertions are a great way to test code."
      ]
    },
    {
      "cell_type": "code",
      "metadata": {
        "id": "7EDLQKD8Mqpo",
        "outputId": "6a4ba339-85aa-4464-ec52-04b166749e44",
        "colab": {
          "base_uri": "https://localhost:8080/"
        }
      },
      "source": [
        "# figure out the best value for `a` so that the assertion is True\n",
        "a =  14.1\n",
        "\n",
        "# don't change anything below this comment\n",
        "b = 12\n",
        "assert a * b == 169.2, \"a is invalid\"\n",
        "print(\"Good job!\")\n"
      ],
      "execution_count": 4,
      "outputs": [
        {
          "output_type": "stream",
          "text": [
            "14.1\n",
            "Good job!\n"
          ],
          "name": "stdout"
        }
      ]
    },
    {
      "cell_type": "markdown",
      "metadata": {
        "id": "5iIgwJAlRSDB"
      },
      "source": [
        "## lists & tuples\n",
        "\n",
        "Python **lists** hold multiple items in a single variable. You can mix datatypes.  Lists are mutable\n",
        "\n",
        "Python **tuples** hold multiple items in a single variable. You can mix datatypes. Tuples are immutable"
      ]
    },
    {
      "cell_type": "code",
      "metadata": {
        "id": "z9-X8SxbRtFb",
        "outputId": "ea08043e-96fd-47b6-85f3-ec918f5e5748",
        "colab": {
          "base_uri": "https://localhost:8080/"
        }
      },
      "source": [
        "# two lists\n",
        "a = [\"snake\", \"goat\", \"hawk\", \"bear\", \"scorpion\"]\n",
        "b = [3, 9, 7, 4, 8]\n",
        "\n",
        "# concatenate two lists\n",
        "c = a + b\n",
        "print(\"What is a + b\")\n",
        "print(c)\n",
        "\n",
        "# sort list a\n",
        "print(\"What is sorted(a)?\")\n",
        "print(sorted(a))\n",
        "\n",
        "# sort list b\n",
        "print(\"What is sorted(b)?\")\n",
        "print(sorted(b))\n",
        "\n",
        "# let's remove the `goat` from list c\n",
        "c.remove(\"goat\")\n",
        "print(\"What is in list `c` now?\")\n",
        "print(c)\n",
        "\n",
        "# tuple\n",
        "d = (\"snake\", \"goat\", \"hawk\")"
      ],
      "execution_count": 5,
      "outputs": [
        {
          "output_type": "stream",
          "text": [
            "What is a + b\n",
            "['snake', 'goat', 'hawk', 'bear', 'scorpion', 3, 9, 7, 4, 8]\n",
            "What is sorted(a)?\n",
            "['bear', 'goat', 'hawk', 'scorpion', 'snake']\n",
            "What is sorted(b)?\n",
            "[3, 4, 7, 8, 9]\n",
            "What is in list `c` now?\n",
            "['snake', 'hawk', 'bear', 'scorpion', 3, 9, 7, 4, 8]\n"
          ],
          "name": "stdout"
        }
      ]
    },
    {
      "cell_type": "markdown",
      "metadata": {
        "id": "j9zIPNeUUC64"
      },
      "source": [
        "🦅 Do it! Try to add/remove elements to the list `a` and tuple `d`."
      ]
    },
    {
      "cell_type": "code",
      "metadata": {
        "id": "PE6xiFhZUKs9",
        "outputId": "21b027cf-6a8a-420a-ad16-481d016f5abb",
        "colab": {
          "base_uri": "https://localhost:8080/"
        }
      },
      "source": [
        "# add your favorite animal to list `a`\n",
        "a.append(\"tiger\")\n",
        "a.append(\"gorilla\")\n",
        "\n",
        "\n",
        "# add your favorite animal to tuple `d`\n",
        "d = list(d)\n",
        "d.remove(\"alligator\")\n",
        "d = tuple(d)\n",
        "print(d)\n"
      ],
      "execution_count": 9,
      "outputs": [
        {
          "output_type": "stream",
          "text": [
            "('snake', 'goat', 'hawk', 'alligator')\n"
          ],
          "name": "stdout"
        }
      ]
    },
    {
      "cell_type": "code",
      "metadata": {
        "id": "m4Aqku5pURx6"
      },
      "source": [
        "# remove the \"snake\" from list `a`\n",
        "\n",
        "\n",
        "# remove the \"snake\" from tuple `d`\n",
        "\n"
      ],
      "execution_count": null,
      "outputs": []
    },
    {
      "cell_type": "markdown",
      "metadata": {
        "id": "5A75yjrSUgGD"
      },
      "source": [
        "Did you notice anything different about tuples compared to lists?"
      ]
    },
    {
      "cell_type": "markdown",
      "metadata": {
        "id": "BfX2jcOYep-o"
      },
      "source": [
        "## dictionaries\n",
        "\n",
        "Python dictionaries use key:value structure. The analogy is a a language dictionary's word:definition structure."
      ]
    },
    {
      "cell_type": "code",
      "metadata": {
        "id": "r8Ec9_yZe-J3"
      },
      "source": [
        "# create a dictionary\n",
        "landmarks = {\n",
        "    \"Eiffel Tower\": {\n",
        "        \"location\": \"Paris, France\",\n",
        "        \"height\": 324,\n",
        "        \"usage\": [\"observation\", \"broadcasting\", \"global cultural icon\"],\n",
        "        \"year_construction_completed\": 1889\n",
        "    },\n",
        "\n",
        "    \"Willis Tower\": {\n",
        "        \"location\": \"Chicago, Illinois\",\n",
        "        \"former name\": \"Sears Tower\",\n",
        "        \"height\": 527,\n",
        "        \"usage\": [\"office\", \"observation\", \"broadcasting\"],\n",
        "        \"year_construction_completed\": 1974\n",
        "    }\n",
        "\n",
        "}"
      ],
      "execution_count": 16,
      "outputs": []
    },
    {
      "cell_type": "markdown",
      "metadata": {
        "id": "hfMDH9CTg5wX"
      },
      "source": [
        "🦅 Do it! \n",
        "\n",
        "(1) Add a key/value for `\"year_construction_completed\"` to each landmark above.\n",
        "\n",
        "(2) Add a favorite landmark with relevant information to the dictionary above.\n",
        "\n",
        "Fix any syntax errors."
      ]
    },
    {
      "cell_type": "markdown",
      "metadata": {
        "id": "VE995HB6hfHI"
      },
      "source": [
        "Let's access values in the dictionary!"
      ]
    },
    {
      "cell_type": "code",
      "metadata": {
        "id": "CM64Kch2hiTo"
      },
      "source": [
        "# what is the height of Willis Tower\n",
        "print(\"Willis Tower is {}m tall!\".format(landmarks[\"Willis Tower\"][\"height\"]))"
      ],
      "execution_count": null,
      "outputs": []
    },
    {
      "cell_type": "code",
      "metadata": {
        "id": "1IRyd9Jbh1zx"
      },
      "source": [
        "# when was the Eiffel Tower constructed\n",
        "print(\"The Eiffel Tower completed construction in year {}!\".format(landmarks[\"Eiffel Tower\"][\"year_construction_completed\"]))"
      ],
      "execution_count": null,
      "outputs": []
    },
    {
      "cell_type": "markdown",
      "metadata": {
        "id": "UN3nymsTibY-"
      },
      "source": [
        "Can we determine the tallest landmark?"
      ]
    },
    {
      "cell_type": "code",
      "metadata": {
        "id": "tyiZ3l6GiwKP"
      },
      "source": [
        "# what is the tallest landmark?\n",
        "tallest = max(landmarks, key=lambda k: landmarks[k][\"height\"])\n",
        "print(\"The tallest landmark is: {}\".format(tallest))"
      ],
      "execution_count": null,
      "outputs": []
    },
    {
      "cell_type": "markdown",
      "metadata": {
        "id": "m1SMcvPckUhb"
      },
      "source": [
        "🦅 Do it! Determine the oldest landmark."
      ]
    },
    {
      "cell_type": "code",
      "metadata": {
        "id": "K613OS_bkbQQ",
        "outputId": "6ca04be0-c5ff-45ce-b46f-e724ee8209d3",
        "colab": {
          "base_uri": "https://localhost:8080/"
        }
      },
      "source": [
        "# what is the oldest landmark?\n",
        "# your code \n",
        "oldest = min(landmarks, key=lambda k: landmarks[k][\"year_construction_completed\"])\n",
        "print(oldest)"
      ],
      "execution_count": 14,
      "outputs": [
        {
          "output_type": "stream",
          "text": [
            "Eiffel Tower\n"
          ],
          "name": "stdout"
        }
      ]
    },
    {
      "cell_type": "markdown",
      "metadata": {
        "id": "jB0HDwAwVTrB"
      },
      "source": [
        "## Functions"
      ]
    },
    {
      "cell_type": "code",
      "metadata": {
        "id": "bNoJQ3D4VVlF",
        "outputId": "593c34e8-9d60-480e-8cb8-0ad99629c69a",
        "colab": {
          "base_uri": "https://localhost:8080/"
        }
      },
      "source": [
        "# code playground\n",
        "\n",
        "def subtract(a, b):\n",
        "  c = a - b\n",
        "  return c\n",
        "\n",
        "print(subtract(42, 7))"
      ],
      "execution_count": 18,
      "outputs": [
        {
          "output_type": "stream",
          "text": [
            "35\n"
          ],
          "name": "stdout"
        }
      ]
    },
    {
      "cell_type": "markdown",
      "metadata": {
        "id": "bCsiHaajVW9F"
      },
      "source": [
        "## Classes"
      ]
    },
    {
      "cell_type": "code",
      "metadata": {
        "id": "CDpXc-gtVY1e",
        "outputId": "8ff74fb4-bb01-4779-9be0-d7ad9169152d",
        "colab": {
          "base_uri": "https://localhost:8080/"
        }
      },
      "source": [
        "# code playground\n",
        "\n",
        "class Landmark:\n",
        "  def __init__(self, name):\n",
        "    self.name = name\n",
        "    self.location = None\n",
        "  \n",
        "  def __str__(self):\n",
        "    return self.name + \": \" + self.location\n",
        "\n",
        "  def set_location(self, location):\n",
        "    self.location = location\n",
        "\n",
        "\n",
        "pisa = Landmark(\"Leaning Tower of Pisa\")\n",
        "\n",
        "pisa.set_location(\"Italy\")\n",
        "\n",
        "print(pisa)\n",
        "\n",
        "eiffel = Landmark(\"Eiffel Tower\")\n",
        "\n",
        "eiffel.set_location(\"France\")\n",
        "\n",
        "print(eiffel)\n",
        "\n",
        "eiffel.set_location(\"Paris, France\")\n",
        "pisa.set_location(\"Pisa, Italy\")\n",
        "\n",
        "print(eiffel)\n",
        "print (pisa)\n",
        "\n",
        "\n",
        "\n"
      ],
      "execution_count": 27,
      "outputs": [
        {
          "output_type": "stream",
          "text": [
            "Leaning Tower of Pisa: Italy\n",
            "Eiffel Tower: France\n",
            "Eiffel Tower: Paris, France\n",
            "Leaning Tower of Pisa: Pisa, Italy\n"
          ],
          "name": "stdout"
        }
      ]
    },
    {
      "cell_type": "markdown",
      "metadata": {
        "id": "XGkF6hypewH7"
      },
      "source": [
        "Leaning Tower of Pisa: Italy"
      ]
    }
  ]
}