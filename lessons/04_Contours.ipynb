{
  "nbformat": 4,
  "nbformat_minor": 0,
  "metadata": {
    "colab": {
      "name": "04_Contours.ipynb",
      "provenance": [],
      "authorship_tag": "ABX9TyNDK4NXdUEn6347JFeAYsHQ",
      "include_colab_link": true
    },
    "kernelspec": {
      "name": "python3",
      "display_name": "Python 3"
    },
    "language_info": {
      "name": "python"
    }
  },
  "cells": [
    {
      "cell_type": "markdown",
      "metadata": {
        "id": "view-in-github",
        "colab_type": "text"
      },
      "source": [
        "<a href=\"https://colab.research.google.com/github/drhoffma/HarperIDEAShopCVCC/blob/main/lessons/04_Contours.ipynb\" target=\"_parent\"><img src=\"https://colab.research.google.com/assets/colab-badge.svg\" alt=\"Open In Colab\"/></a>"
      ]
    },
    {
      "cell_type": "markdown",
      "metadata": {
        "id": "EDfZ2UOjVelK"
      },
      "source": [
        "![](https://github.com/drhoffma/HarperIDEAShopCVCC/blob/main/colab_template/header_image.png?raw=true)\n",
        "\n",
        "# Welcome to **Harper College's IDEAShop** curriculum!\n",
        "\n",
        "**Course Title:** *Computer Vision, Cameras, & Code*\n",
        "\n",
        "**Quick Links:** [Homepage](https://tinyurl.com/harpercv-home) | [Syllabus](https://tinyurl.com/harpercv-syllabus) | [Blackboard](#) | [Instructor](https://davidrhoffman.net)\n",
        "\n",
        "***Terms of use:*** *This course is public domain. If you'd like to use content from this course, please request consent by [contacting Harper College MakerSpace](https://www.harpercollege.edu/maker/contact/index.php).*\n",
        "\n",
        "---"
      ]
    },
    {
      "cell_type": "markdown",
      "metadata": {
        "id": "ZLaIGkSFVnFn"
      },
      "source": [
        "# Contours"
      ]
    },
    {
      "cell_type": "code",
      "metadata": {
        "id": "OATo2igLXpdA",
        "outputId": "90566a55-cb36-4642-b477-fb57d68f732d",
        "colab": {
          "base_uri": "https://localhost:8080/"
        }
      },
      "source": [
        "# download yesterday's ping pong ball range filter image\n",
        "! wget https://github.com/drhoffma/HarperIDEAShopCVCC/raw/main/lessons/images/thresh.png"
      ],
      "execution_count": 1,
      "outputs": [
        {
          "output_type": "stream",
          "text": [
            "--2021-07-28 14:25:00--  https://github.com/drhoffma/HarperIDEAShopCVCC/raw/main/lessons/images/thresh.png\n",
            "Resolving github.com (github.com)... 192.30.255.112\n",
            "Connecting to github.com (github.com)|192.30.255.112|:443... connected.\n",
            "HTTP request sent, awaiting response... 302 Found\n",
            "Location: https://raw.githubusercontent.com/drhoffma/HarperIDEAShopCVCC/main/lessons/images/thresh.png [following]\n",
            "--2021-07-28 14:25:00--  https://raw.githubusercontent.com/drhoffma/HarperIDEAShopCVCC/main/lessons/images/thresh.png\n",
            "Resolving raw.githubusercontent.com (raw.githubusercontent.com)... 185.199.111.133, 185.199.109.133, 185.199.108.133, ...\n",
            "Connecting to raw.githubusercontent.com (raw.githubusercontent.com)|185.199.111.133|:443... connected.\n",
            "HTTP request sent, awaiting response... 200 OK\n",
            "Length: 2427 (2.4K) [image/png]\n",
            "Saving to: ‘thresh.png’\n",
            "\n",
            "thresh.png          100%[===================>]   2.37K  --.-KB/s    in 0s      \n",
            "\n",
            "2021-07-28 14:25:01 (15.7 MB/s) - ‘thresh.png’ saved [2427/2427]\n",
            "\n"
          ],
          "name": "stdout"
        }
      ]
    },
    {
      "cell_type": "markdown",
      "metadata": {
        "id": "HJbamDLvVrrX"
      },
      "source": [
        "## Finding Contours"
      ]
    },
    {
      "cell_type": "code",
      "metadata": {
        "id": "RXkE0pzNVmKj"
      },
      "source": [
        "# code playground\n",
        "import cv2\n",
        "import imutils\n",
        "from google.colab.patches import cv2_imshow\n",
        "\n",
        "# load the thresholded image and convert to grayscale\n",
        "thresh = cv2.imread(\"thresh.png\")\n",
        "image = thresh.copy()\n",
        "gray = cv2.cvtColor(thresh, cv2.COLOR_BGR2GRAY)\n",
        "\n",
        "# find contours\n",
        "cnts = cv2.findContours(gray, cv2.RETR_EXTERNAL, cv2.CHAIN_APPROX_SIMPLE)\n",
        "cnts = imutils.grab_contours(cnts)\n"
      ],
      "execution_count": 24,
      "outputs": []
    },
    {
      "cell_type": "markdown",
      "metadata": {
        "id": "H85xEqaMVxAg"
      },
      "source": [
        "## Looping over Contours"
      ]
    },
    {
      "cell_type": "code",
      "metadata": {
        "id": "kUD8yYd2V1KD",
        "outputId": "9b2ec05c-2242-4c5f-a7e0-54f4953ee235",
        "colab": {
          "base_uri": "https://localhost:8080/",
          "height": 618
        }
      },
      "source": [
        "# code playground\n",
        "\n",
        "# loop over the contours\n",
        "for c in cnts:\n",
        "    # draw the contour\n",
        "    cv2.drawContours(thresh, [c], -1, (0, 0, 255), 2)\n",
        "\n",
        "# or do it in one fell swoop\n",
        "#cv2.drawContours(thresh, cnts, -1, (0, 0, 255), 2)\n",
        "\n",
        "cv2_imshow(thresh)"
      ],
      "execution_count": 25,
      "outputs": [
        {
          "output_type": "display_data",
          "data": {
            "image/png": "[encoded data removed]",
            "text/plain": [
              "<PIL.Image.Image image mode=RGB size=800x600 at 0x7F7B8D47EF90>"
            ]
          },
          "metadata": {
            "tags": []
          }
        }
      ]
    },
    {
      "cell_type": "markdown",
      "metadata": {
        "id": "wwiAvCnjV3VT"
      },
      "source": [
        "## Counting Contours"
      ]
    },
    {
      "cell_type": "code",
      "metadata": {
        "id": "GNP55mVgV-_K",
        "outputId": "9adf66b9-c404-4cf8-a029-b1cecb62419a",
        "colab": {
          "base_uri": "https://localhost:8080/"
        }
      },
      "source": [
        "# code playground\n",
        "\n",
        "print(\"I found {} contours\".format(len(cnts)))"
      ],
      "execution_count": 17,
      "outputs": [
        {
          "output_type": "stream",
          "text": [
            "I found 22 contours\n"
          ],
          "name": "stdout"
        }
      ]
    },
    {
      "cell_type": "markdown",
      "metadata": {
        "id": "AlsdM-3YWETn"
      },
      "source": [
        "## Extracting ROIs"
      ]
    },
    {
      "cell_type": "code",
      "metadata": {
        "id": "efYPX9-NWIO0",
        "outputId": "ebfada80-9376-482f-f9b6-b8eab0388be9",
        "colab": {
          "base_uri": "https://localhost:8080/",
          "height": 362
        }
      },
      "source": [
        "# code playground\n",
        "\n",
        "# loop over the contours\n",
        "for i, c in enumerate(cnts):\n",
        "    # print the contour area\n",
        "    area = cv2.contourArea(c)\n",
        "    \n",
        "\n",
        "    # filter on larger areas\n",
        "    if area > 5000:\n",
        "      print(\"Contour {} has area {} pixels\".format(str(i), str(area)))\n",
        "      # grab the bounding rectangle\n",
        "      x1, y1, w, h = cv2.boundingRect(c)\n",
        "\n",
        "      # determine y2 and x2\n",
        "      y2 = y1 + h\n",
        "      x2 = x1 + w\n",
        "\n",
        "      # extract the ROI via NumPy array slicing\n",
        "      roi = image[y1:y2, x1:x2]\n",
        "\n",
        "      cv2_imshow(roi)"
      ],
      "execution_count": 23,
      "outputs": [
        {
          "output_type": "stream",
          "text": [
            "Contour 1 has area 7661.5 pixels\n"
          ],
          "name": "stdout"
        },
        {
          "output_type": "display_data",
          "data": {
            "image/png": "[encoded data removed]",
            "text/plain": [
              "<PIL.Image.Image image mode=RGB size=103x104 at 0x7F7B8D3F2690>"
            ]
          },
          "metadata": {
            "tags": []
          }
        },
        {
          "output_type": "stream",
          "text": [
            "Contour 5 has area 7034.0 pixels\n"
          ],
          "name": "stdout"
        },
        {
          "output_type": "display_data",
          "data": {
            "image/png": "[encoded data removed]",
            "text/plain": [
              "<PIL.Image.Image image mode=RGB size=99x96 at 0x7F7B8D4430D0>"
            ]
          },
          "metadata": {
            "tags": []
          }
        },
        {
          "output_type": "stream",
          "text": [
            "Contour 21 has area 5259.5 pixels\n"
          ],
          "name": "stdout"
        },
        {
          "output_type": "display_data",
          "data": {
            "image/png": "[encoded data removed]",
            "text/plain": [
              "<PIL.Image.Image image mode=RGB size=82x92 at 0x7F7B8D443C50>"
            ]
          },
          "metadata": {
            "tags": []
          }
        }
      ]
    },
    {
      "cell_type": "markdown",
      "metadata": {
        "id": "m1_vp95zWPSU"
      },
      "source": [
        "## Morphological Operations"
      ]
    },
    {
      "cell_type": "markdown",
      "metadata": {
        "id": "qOZERikvWTew"
      },
      "source": [
        "### Erosion"
      ]
    },
    {
      "cell_type": "code",
      "metadata": {
        "id": "Ib7iWWXPWVOw"
      },
      "source": [
        "\n",
        "# code playground\n",
        "\n",
        "eroded = cv2.erode(image.copy(), None, iterations=2)\n",
        "t2 = time.time()\n",
        "cv2_imshow(eroded)"
      ],
      "execution_count": null,
      "outputs": []
    },
    {
      "cell_type": "markdown",
      "metadata": {
        "id": "_lZ5nIo4WXXA"
      },
      "source": [
        "### Dilation"
      ]
    },
    {
      "cell_type": "code",
      "metadata": {
        "id": "QwfcARD4WZv9",
        "outputId": "c42f8dcf-afd7-40f2-d709-70cdae9b43ce",
        "colab": {
          "base_uri": "https://localhost:8080/",
          "height": 618
        }
      },
      "source": [
        "# code playground\n",
        "\n",
        "dilated = cv2.dilate(eroded, None, iterations=5)\n",
        "cv2_imshow(dilated)"
      ],
      "execution_count": 45,
      "outputs": [
        {
          "output_type": "display_data",
          "data": {
            "image/png": "[encoded data removed]",
            "text/plain": [
              "<PIL.Image.Image image mode=RGB size=800x600 at 0x7F7B8D3CFD50>"
            ]
          },
          "metadata": {
            "tags": []
          }
        }
      ]
    }
  ]
}