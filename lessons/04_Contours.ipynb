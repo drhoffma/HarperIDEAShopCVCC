{
  "nbformat": 4,
  "nbformat_minor": 0,
  "metadata": {
    "colab": {
      "name": "04_Contours.ipynb",
      "provenance": [],
      "authorship_tag": "ABX9TyOD0SI1ACeR2jWGdN8I8tIo",
      "include_colab_link": true
    },
    "kernelspec": {
      "name": "python3",
      "display_name": "Python 3"
    },
    "language_info": {
      "name": "python"
    }
  },
  "cells": [
    {
      "cell_type": "markdown",
      "metadata": {
        "id": "view-in-github",
        "colab_type": "text"
      },
      "source": [
        "<a href=\"https://colab.research.google.com/github/drhoffma/HarperIDEAShopCVCC/blob/main/lessons/04_Contours.ipynb\" target=\"_parent\"><img src=\"https://colab.research.google.com/assets/colab-badge.svg\" alt=\"Open In Colab\"/></a>"
      ]
    },
    {
      "cell_type": "markdown",
      "metadata": {
        "id": "EDfZ2UOjVelK"
      },
      "source": [
        "![](https://github.com/drhoffma/HarperIDEAShopCVCC/blob/main/colab_template/header_image.png?raw=true)\n",
        "\n",
        "# Welcome to **Harper College's IDEAShop** curriculum!\n",
        "\n",
        "**Course Title:** *Computer Vision, Cameras, & Code*\n",
        "\n",
        "**Quick Links:** [Homepage](https://tinyurl.com/harpercv-home) | [Syllabus](https://tinyurl.com/harpercv-syllabus) | [Blackboard](#) | [Instructor](https://davidrhoffman.net)\n",
        "\n",
        "***Terms of use:*** *This course is public domain. If you'd like to use content from this course, please request consent by [contacting Harper College MakerSpace](https://www.harpercollege.edu/maker/contact/index.php).*\n",
        "\n",
        "---"
      ]
    },
    {
      "cell_type": "markdown",
      "metadata": {
        "id": "ZLaIGkSFVnFn"
      },
      "source": [
        "# Contours"
      ]
    },
    {
      "cell_type": "code",
      "metadata": {
        "id": "OATo2igLXpdA"
      },
      "source": [
        "# download yesterday's ping pong ball range filter image\n",
        "! wget https://github.com/drhoffma/HarperIDEAShopCVCC/raw/main/lessons/images/thresh.png"
      ],
      "execution_count": null,
      "outputs": []
    },
    {
      "cell_type": "markdown",
      "metadata": {
        "id": "HJbamDLvVrrX"
      },
      "source": [
        "## Finding Contours"
      ]
    },
    {
      "cell_type": "code",
      "metadata": {
        "id": "RXkE0pzNVmKj"
      },
      "source": [
        "# code playground"
      ],
      "execution_count": null,
      "outputs": []
    },
    {
      "cell_type": "markdown",
      "metadata": {
        "id": "H85xEqaMVxAg"
      },
      "source": [
        "## Looping over Contours"
      ]
    },
    {
      "cell_type": "code",
      "metadata": {
        "id": "kUD8yYd2V1KD"
      },
      "source": [
        "# code playground"
      ],
      "execution_count": null,
      "outputs": []
    },
    {
      "cell_type": "markdown",
      "metadata": {
        "id": "wwiAvCnjV3VT"
      },
      "source": [
        "## Counting Contours"
      ]
    },
    {
      "cell_type": "code",
      "metadata": {
        "id": "GNP55mVgV-_K"
      },
      "source": [
        "# code playground"
      ],
      "execution_count": null,
      "outputs": []
    },
    {
      "cell_type": "markdown",
      "metadata": {
        "id": "AlsdM-3YWETn"
      },
      "source": [
        "## Extracting ROIs"
      ]
    },
    {
      "cell_type": "code",
      "metadata": {
        "id": "efYPX9-NWIO0"
      },
      "source": [
        "# code playground"
      ],
      "execution_count": null,
      "outputs": []
    },
    {
      "cell_type": "markdown",
      "metadata": {
        "id": "sUDbrzWFWKbo"
      },
      "source": [
        "## Filtering Contours"
      ]
    },
    {
      "cell_type": "code",
      "metadata": {
        "id": "Pfn9xjPHWM-4"
      },
      "source": [
        "# code playground"
      ],
      "execution_count": null,
      "outputs": []
    },
    {
      "cell_type": "markdown",
      "metadata": {
        "id": "m1_vp95zWPSU"
      },
      "source": [
        "## Morphological Operations"
      ]
    },
    {
      "cell_type": "markdown",
      "metadata": {
        "id": "qOZERikvWTew"
      },
      "source": [
        "### Erosion"
      ]
    },
    {
      "cell_type": "code",
      "metadata": {
        "id": "Ib7iWWXPWVOw"
      },
      "source": [
        "# code playground"
      ],
      "execution_count": null,
      "outputs": []
    },
    {
      "cell_type": "markdown",
      "metadata": {
        "id": "_lZ5nIo4WXXA"
      },
      "source": [
        "### Dilation"
      ]
    },
    {
      "cell_type": "code",
      "metadata": {
        "id": "QwfcARD4WZv9"
      },
      "source": [
        "# code playground"
      ],
      "execution_count": null,
      "outputs": []
    }
  ]
}